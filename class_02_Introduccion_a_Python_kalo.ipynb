{
 "cells": [
  {
   "cell_type": "markdown",
   "metadata": {},
   "source": [
    "## Pero ... y si ya sabemos R?\n",
    "\n",
    "... ¿Cuál es mejor? Es una pregunta difícil de responder, pero aquí dejamos algunos artículos que tratan de resaltar las ventajas y desventajas de cada uno.\n",
    "\n",
    "https://www.datanami.com/2018/07/19/python-gains-traction-among-data-scientists/\n",
    "\n",
    "https://elitedatascience.com/r-vs-python-for-data-science\n",
    "\n",
    "https://www.datacamp.com/community/tutorials/r-or-python-for-data-analysis\n",
    "\n",
    "http://www.kdnuggets.com/2015/05/r-vs-python-data-science.html\n",
    "\n",
    "http://www.kdnuggets.com/2015/03/the-grammar-data-science-python-vs-r.html\n",
    "\n",
    "https://www.dataquest.io/blog/python-vs-r/\n",
    "\n",
    "http://www.dataschool.io/python-or-r-for-data-science/\n",
    "\n",
    "https://www.digitalvidya.com/blog/r-vs-python/"
   ]
  },
  {
   "cell_type": "markdown",
   "metadata": {},
   "source": [
    "### Validemos la instalación de los paquetes de Anaconda\n",
    "\n",
    "Tu puedes ejecutar el siguiente código para revisar las versiones de los paquetes que deberían estár instalados.\n",
    "\n",
    "* [Python](http://www.python.org): Usaremos la version 3.6.\n",
    "* [Numpy](http://www.numpy.org): Extensión numérica para cálculos de algebra lineal y con matrices multidimensionales.\n",
    "* [Scipy](http://www.scipy.org): Libería adicional para programación científica.\n",
    "* [Matplotlib](http://matplotlib.sf.net): Librería para realizar gráficas y ploteos.\n",
    "* [IPython](http://ipython.org): Librería para manejar la interfaz del notebook.\n",
    "* [Pandas](http://pandas.pydata.org/): Librería para análisis de datos.\n",
    "* [Seaborn](stanford.edu/~mwaskom/software/seaborn/): Librería usado principalmente para gráficos con estilos.\n",
    "* [scikit-learn](http://scikit-learn.org), Librería de Machine learning."
   ]
  },
  {
   "cell_type": "code",
   "execution_count": 2,
   "metadata": {},
   "outputs": [
    {
     "name": "stdout",
     "output_type": "stream",
     "text": [
      "alabaster==0.7.12\n",
      "anaconda-client==1.7.2\n",
      "anaconda-navigator==1.9.7\n",
      "anaconda-project==0.8.2\n",
      "asn1crypto==0.24.0\n",
      "astroid==2.2.5\n",
      "astropy==3.1.2\n",
      "atomicwrites==1.3.0\n",
      "attrs==19.1.0\n",
      "Babel==2.6.0\n",
      "backcall==0.1.0\n",
      "backports.os==0.1.1\n",
      "backports.shutil-get-terminal-size==1.0.0\n",
      "beautifulsoup4==4.7.1\n",
      "bitarray==0.8.3\n",
      "bkcharts==0.2\n",
      "bleach==3.1.0\n",
      "bokeh==1.0.4\n",
      "boto==2.49.0\n",
      "Bottleneck==1.2.1\n",
      "certifi==2019.3.9\n",
      "cffi==1.12.2\n",
      "chardet==3.0.4\n",
      "Click==7.0\n",
      "cloudpickle==0.8.0\n",
      "clyent==1.2.2\n",
      "colorama==0.4.1\n",
      "comtypes==1.1.7\n",
      "conda==4.6.11\n",
      "conda-build==3.17.8\n",
      "conda-verify==3.1.1\n",
      "contextlib2==0.5.5\n",
      "cryptography==2.6.1\n",
      "cycler==0.10.0\n",
      "Cython==0.29.6\n",
      "cytoolz==0.9.0.1\n",
      "dask==1.1.4\n",
      "decorator==4.4.0\n",
      "defusedxml==0.5.0\n",
      "distributed==1.26.0\n",
      "docutils==0.14\n",
      "entrypoints==0.3\n",
      "et-xmlfile==1.0.1\n",
      "fastcache==1.0.2\n",
      "filelock==3.0.10\n",
      "Flask==1.0.2\n",
      "future==0.17.1\n",
      "gevent==1.4.0\n",
      "glob2==0.6\n",
      "greenlet==0.4.15\n",
      "h5py==2.9.0\n",
      "heapdict==1.0.0\n",
      "html5lib==1.0.1\n",
      "idna==2.8\n",
      "imageio==2.5.0\n",
      "imagesize==1.1.0\n",
      "importlib-metadata==0.0.0\n",
      "ipykernel==5.1.0\n",
      "ipython==7.4.0\n",
      "ipython-genutils==0.2.0\n",
      "ipywidgets==7.4.2\n",
      "isort==4.3.16\n",
      "itsdangerous==1.1.0\n",
      "jdcal==1.4\n",
      "jedi==0.13.3\n",
      "Jinja2==2.10\n",
      "jsonschema==3.0.1\n",
      "jupyter==1.0.0\n",
      "jupyter-client==5.2.4\n",
      "jupyter-console==6.0.0\n",
      "jupyter-core==4.4.0\n",
      "jupyterlab==0.35.4\n",
      "jupyterlab-server==0.2.0\n",
      "keyring==18.0.0\n",
      "kiwisolver==1.0.1\n",
      "lazy-object-proxy==1.3.1\n",
      "libarchive-c==2.8\n",
      "llvmlite==0.28.0\n",
      "locket==0.2.0\n",
      "lxml==4.3.2\n",
      "MarkupSafe==1.1.1\n",
      "matplotlib==3.0.3\n",
      "mccabe==0.6.1\n",
      "menuinst==1.4.16\n",
      "mistune==0.8.4\n",
      "mkl-fft==1.0.10\n",
      "mkl-random==1.0.2\n",
      "more-itertools==6.0.0\n",
      "mpmath==1.1.0\n",
      "msgpack==0.6.1\n",
      "multipledispatch==0.6.0\n",
      "navigator-updater==0.2.1\n",
      "nbconvert==5.4.1\n",
      "nbformat==4.4.0\n",
      "networkx==2.2\n",
      "nltk==3.4\n",
      "nose==1.3.7\n",
      "notebook==5.7.8\n",
      "numba==0.43.1\n",
      "numexpr==2.6.9\n",
      "numpy==1.16.2\n",
      "numpydoc==0.8.0\n",
      "olefile==0.46\n",
      "openpyxl==2.6.1\n",
      "packaging==19.0\n",
      "pandas==0.24.2\n",
      "pandocfilters==1.4.2\n",
      "parso==0.3.4\n",
      "partd==0.3.10\n",
      "path.py==11.5.0\n",
      "pathlib2==2.3.3\n",
      "patsy==0.5.1\n",
      "pep8==1.7.1\n",
      "pickleshare==0.7.5\n",
      "Pillow==5.4.1\n",
      "pkginfo==1.5.0.1\n",
      "pluggy==0.9.0\n",
      "ply==3.11\n",
      "prometheus-client==0.6.0\n",
      "prompt-toolkit==2.0.9\n",
      "psutil==5.6.1\n",
      "py==1.8.0\n",
      "pycodestyle==2.5.0\n",
      "pycosat==0.6.3\n",
      "pycparser==2.19\n",
      "pycrypto==2.6.1\n",
      "pycurl==7.43.0.2\n",
      "pyflakes==2.1.1\n",
      "Pygments==2.3.1\n",
      "pylint==2.3.1\n",
      "pyodbc==4.0.26\n",
      "pyOpenSSL==19.0.0\n",
      "pyparsing==2.3.1\n",
      "pyreadline==2.1\n",
      "pyrsistent==0.14.11\n",
      "PySocks==1.6.8\n",
      "pytest==4.3.1\n",
      "pytest-arraydiff==0.3\n",
      "pytest-astropy==0.5.0\n",
      "pytest-doctestplus==0.3.0\n",
      "pytest-openfiles==0.3.2\n",
      "pytest-remotedata==0.3.1\n",
      "python-dateutil==2.8.0\n",
      "pytz==2018.9\n",
      "PyWavelets==1.0.2\n",
      "pywin32==223\n",
      "pywinpty==0.5.5\n",
      "PyYAML==5.1\n",
      "pyzmq==18.0.0\n",
      "QtAwesome==0.5.7\n",
      "qtconsole==4.4.3\n",
      "QtPy==1.7.0\n",
      "requests==2.21.0\n",
      "rope==0.12.0\n",
      "ruamel-yaml==0.15.46\n",
      "scikit-image==0.14.2\n",
      "scikit-learn==0.20.3\n",
      "scipy==1.2.1\n",
      "seaborn==0.9.0\n",
      "Send2Trash==1.5.0\n",
      "simplegeneric==0.8.1\n",
      "singledispatch==3.4.0.3\n",
      "six==1.12.0\n",
      "snowballstemmer==1.2.1\n",
      "sortedcollections==1.1.2\n",
      "sortedcontainers==2.1.0\n",
      "soupsieve==1.8\n",
      "Sphinx==1.8.5\n",
      "sphinxcontrib-websupport==1.1.0\n",
      "spyder==3.3.3\n",
      "spyder-kernels==0.4.2\n",
      "SQLAlchemy==1.3.1\n",
      "statsmodels==0.9.0\n",
      "sympy==1.3\n",
      "tables==3.5.1\n",
      "tblib==1.3.2\n",
      "terminado==0.8.1\n",
      "testpath==0.4.2\n",
      "toolz==0.9.0\n",
      "tornado==6.0.2\n",
      "tqdm==4.31.1\n",
      "traitlets==4.3.2\n",
      "unicodecsv==0.14.1\n",
      "urllib3==1.24.1\n",
      "wcwidth==0.1.7\n",
      "webencodings==0.5.1\n",
      "Werkzeug==0.14.1\n",
      "widgetsnbextension==3.4.2\n",
      "win-inet-pton==1.1.0\n",
      "win-unicode-console==0.5\n",
      "wincertstore==0.2\n",
      "wrapt==1.11.1\n",
      "xlrd==1.2.0\n",
      "XlsxWriter==1.1.5\n",
      "xlwings==0.15.4\n",
      "xlwt==1.3.0\n",
      "zict==0.1.4\n",
      "zipp==0.3.3\n"
     ]
    }
   ],
   "source": [
    "!pip freeze"
   ]
  },
  {
   "cell_type": "code",
   "execution_count": 3,
   "metadata": {},
   "outputs": [
    {
     "name": "stdout",
     "output_type": "stream",
     "text": [
      " Volume in drive D is Data\n",
      " Volume Serial Number is BC62-66DB\n",
      "\n",
      " Directory of D:\\_ProductTeam\\_Documents\\_DataScience\\Fullstack\\Class01\n",
      "\n",
      "05/11/2019  18:20    <DIR>          .\n",
      "05/11/2019  18:20    <DIR>          ..\n",
      "05/11/2019  17:41    <DIR>          .ipynb_checkpoints\n",
      "05/11/2019  17:18         8,489,821 clase1_python_numpy_pandas.rar\n",
      "05/11/2019  17:15           195,069 class_02_Introduccion_a_Python_2.ipynb\n",
      "05/11/2019  17:08           109,803 class_02_Introduccion_a_Python_kalo.ipynb\n",
      "05/11/2019  17:39            13,834 class_03_Introduccion_a_Numpy.ipynb\n",
      "05/11/2019  18:20            74,082 class_04_Introduccion_a_Pandas.ipynb\n",
      "05/11/2019  12:45    <DIR>          data\n",
      "05/11/2019  12:45    <DIR>          images\n",
      "05/11/2019  17:22                78 _config junyper.txt\n",
      "               6 File(s)      8,882,687 bytes\n",
      "               5 Dir(s)  84,402,753,536 bytes free\n"
     ]
    }
   ],
   "source": [
    "!dir"
   ]
  },
  {
   "cell_type": "markdown",
   "metadata": {},
   "source": [
    "<div class=\"alert alert-info\" role=\"alert\">\n",
    "  <strong>Nota:</strong> Para ejecutar el contenido de una celda presionar **`shift` + `enter`**\n",
    "</div>"
   ]
  },
  {
   "cell_type": "code",
   "execution_count": 4,
   "metadata": {},
   "outputs": [
    {
     "name": "stdout",
     "output_type": "stream",
     "text": [
      "Versión de Python: 3.7.3 (default, Mar 27 2019, 17:13:21) [MSC v.1915 64 bit (AMD64)]\n",
      "IPython: 7.4.0\n",
      "Numpy: 1.16.2\n",
      "Scipy: 1.2.1\n",
      "Matplotlib: 3.0.3\n",
      "Pandas: 0.24.2\n",
      "Scikit-learn: 0.20.3\n",
      "Seaborn 0.9.0\n"
     ]
    }
   ],
   "source": [
    "import sys\n",
    "\n",
    "print('Versión de Python:', sys.version)\n",
    "\n",
    "import IPython\n",
    "print('IPython:', IPython.__version__)\n",
    "\n",
    "import numpy\n",
    "print('Numpy:', numpy.__version__)\n",
    "\n",
    "import scipy\n",
    "print('Scipy:', scipy.__version__)\n",
    "\n",
    "import matplotlib\n",
    "print('Matplotlib:', matplotlib.__version__)\n",
    "\n",
    "import pandas\n",
    "print('Pandas:', pandas.__version__)\n",
    "\n",
    "import sklearn\n",
    "print('Scikit-learn:', sklearn.__version__)\n",
    "\n",
    "import seaborn\n",
    "print('Seaborn', seaborn.__version__)"
   ]
  },
  {
   "cell_type": "markdown",
   "metadata": {},
   "source": [
    "En este notebook tendremos una introducción a Python. Existen muchos recursos en línea donde se puede aprender este lenguaje con mayor profundidad. El [Tutorial de Python](http://docs.python.org/2/tutorial/) es un buen punto de partida. Aquí listo algunos de los más importantes:\n",
    "\n",
    "1. [Udemy](https://www.udemy.com/)\n",
    "2. [DataCamp](https://www.datacamp.com/)\n",
    "3. [DataQuest](https://www.dataquest.io/)\n",
    "4. [Coursera](https://www.coursera.org/)\n",
    "5. [Udacity](https://www.udacity.com/)\n",
    "6. [Analytics Vidya](https://www.analyticsvidhya.com/)\n",
    "7. [Databricks](https://databricks.com/) (Uso del Api de Python para Spark)\n",
    "8. [Towards Data Science](https://towardsdatascience.com/)\n",
    "9. [Kdnuggets](https://www.kdnuggets.com/)\n",
    "\n",
    "Durante las sesiones de clase, haremos uso de los Notebooks. Una buena introducción a los notebooks se puede encontrar en la [Documentación de Jupyter](https://jupyter-notebook.readthedocs.io/en/stable/).\n",
    "\n",
    "De forma general, los notebooks tiene celdas de código (que por lo general son seguidas de celdas de resultados) y de texto. Un ejemplo de celda de texto es lo que estas leyendo ahora. Las celdas de código se reconocen fácilmente porque empiezan con **`In []:`** y con algún número, por lo general entre los corchetes, una vez que son ejecutados. Si ubicas tu cursor en una de las celdas de código y presionas **`shift` + `enter`**, el código se ejecutará en el intérprete de Python y el resultado se pintará en la celda de salida o resultado.\n",
    "\n",
    "<img src=\"images/blank-notebook-ui.png\" width=\"700\">"
   ]
  },
  {
   "cell_type": "markdown",
   "metadata": {},
   "source": [
    "# I. Tipos de variables\n",
    "\n",
    "Python es un lenguaje de tipado dinámico, o sea que las variables no tienen un tipo y por lo tanto no deben ser declaradas. Los valores, sin embargo, tienen tipo. Puedes consultar a una variable el tipo de valor que contiene.\n",
    "\n",
    "Estos tipos son,\n",
    "\n",
    "| Nro | Tipo de Dato |\n",
    "|------|------|\n",
    "| 1. |   Booleanos  |\n",
    "| 2. |   Numéricos  |\n",
    "| 3. |   Cadenas de caractéres o Strings  |\n",
    "| 4. |   Datos binarios o Bytes  |\n",
    "| 5. |   Listas  |\n",
    "| 6. |   Tuplas  |\n",
    "| 7. |   Rangos  |\n",
    "| 8. |   Conjuntos o Sets  |\n",
    "| 9. |   Diccionarios  |"
   ]
  },
  {
   "cell_type": "markdown",
   "metadata": {},
   "source": [
    "## 1. Booleanos\n",
    "\n",
    "Los tipos de datos booleanos pueden tomar dos valores: Verdadero (True) o Falso (False). Se pueden declarar variables con un valor de tipo booleano y también evaluar expresiones para obtener un valor tipo booleano."
   ]
  },
  {
   "cell_type": "code",
   "execution_count": null,
   "metadata": {},
   "outputs": [],
   "source": [
    "# Declarar una variable con un valor del tipo booleano\n",
    "var = True\n",
    "print(var, type(var))"
   ]
  },
  {
   "cell_type": "markdown",
   "metadata": {},
   "source": [
    "## ¿Por qué elegir Python para Análisis de Datos?\n",
    "\n",
    "Python es el lenguaje de programación de elección para muchos científicos, en gran medida porque ofrece una gran cantidad de poder para analizar y modelar datos con relativamente pocos gastos generales en términos de tiempo de aprendizaje, instalación o desarrollo.\n",
    "\n",
    "El [tutorial de Python](http://docs.python.org/3/tutorial/) es un excelente lugar para comenzar a familiarizarse con el lenguaje. Aquí hay algunos motivos que favorecen el aprendizaje de Python:\n",
    "\n",
    "- De código abierto - gratis para instalar\n",
    "- Impresionante comunidad en línea\n",
    "- Muy fácil de aprender\n",
    "- Puede convertirse en un lenguaje común para la ciencia de datos y la producción de productos analíticos basados en la web.\n",
    "\n",
    "<img src=\"images/python_growing.jpg\" width=\"400\">"
   ]
  },
  {
   "cell_type": "code",
   "execution_count": 18,
   "metadata": {},
   "outputs": [
    {
     "name": "stdout",
     "output_type": "stream",
     "text": [
      "True <class 'bool'>\n"
     ]
    }
   ],
   "source": [
    "# Declarar una variable con un valor resultado de una expresión\n",
    "# Para uncluir parentesis automáticamente se sellecciona y luego se pone parentesis izquierdo\n",
    "x = 24\n",
    "var = (x > 20)\n",
    "print(var, type(var))"
   ]
  },
  {
   "cell_type": "markdown",
   "metadata": {},
   "source": [
    "## 2. Numéricos\n",
    "\n",
    "Los tipos de datos numéricos son ampliamente usados en Python. Existen 3 tipos importantes,\n",
    "\n",
    "- Números enteros (\"int\" del inglés integer, entero)\n",
    "- Números racionales (\"float\" del inglés floating point, punto flotante)\n",
    "- Números complejos (\"complex\" del inglés complex, complejo)\n",
    "\n",
    "En Python 2 existía int (entero corto) y long (entero largo). En Python 3 sólo existe int."
   ]
  },
  {
   "cell_type": "markdown",
   "metadata": {},
   "source": [
    "### Tipo de dato entero"
   ]
  },
  {
   "cell_type": "code",
   "execution_count": 5,
   "metadata": {},
   "outputs": [
    {
     "name": "stdout",
     "output_type": "stream",
     "text": [
      "24 <class 'int'>\n"
     ]
    }
   ],
   "source": [
    "# Declarar un variable con un valor entero\n",
    "x = 24\n",
    "print(x, type(x))"
   ]
  },
  {
   "cell_type": "code",
   "execution_count": 6,
   "metadata": {},
   "outputs": [
    {
     "name": "stdout",
     "output_type": "stream",
     "text": [
      "3 <class 'int'>\n"
     ]
    }
   ],
   "source": [
    "# Declarar una variable con un valor numérico usando la función int\n",
    "x = int(3.1416)\n",
    "print(x, type(x))"
   ]
  },
  {
   "cell_type": "markdown",
   "metadata": {},
   "source": [
    "<div class=\"alert alert-info\" role=\"alert\">\n",
    "  <strong>Nota:</strong> Help es uno de los comandos utilizados para obtener documentación sobre objetos definidos en el scope actual, tanto los incorporados como los definidos por el usuario.\n",
    "</div>"
   ]
  },
  {
   "cell_type": "markdown",
   "metadata": {},
   "source": [
    "help(int)"
   ]
  },
  {
   "cell_type": "code",
   "execution_count": 7,
   "metadata": {},
   "outputs": [],
   "source": [
    "??int"
   ]
  },
  {
   "cell_type": "markdown",
   "metadata": {},
   "source": [
    "help(x)"
   ]
  },
  {
   "cell_type": "markdown",
   "metadata": {},
   "source": [
    "Los métodos que empiezan y terminan con doble guión bajo (\\_\\_) se usan para indicar que son objetos o atributos mágicos. Estos métodos pueden ser invocados directamente, pero su propósito es ser ejecutados de manera indirecta."
   ]
  },
  {
   "cell_type": "markdown",
   "metadata": {},
   "source": [
    "x.__abs__()"
   ]
  },
  {
   "cell_type": "code",
   "execution_count": 15,
   "metadata": {},
   "outputs": [
    {
     "data": {
      "text/plain": [
       "24"
      ]
     },
     "execution_count": 15,
     "metadata": {},
     "output_type": "execute_result"
    }
   ],
   "source": [
    "abs(x)"
   ]
  },
  {
   "cell_type": "markdown",
   "metadata": {},
   "source": [
    "### Tipo de dato de punto flotante"
   ]
  },
  {
   "cell_type": "code",
   "execution_count": null,
   "metadata": {},
   "outputs": [],
   "source": [
    "# Declarar un variable con un valor del tipo punto flotante\n",
    "\n",
    "x = 24.0\n",
    "print(x, type(x))"
   ]
  },
  {
   "cell_type": "code",
   "execution_count": 25,
   "metadata": {},
   "outputs": [
    {
     "name": "stdout",
     "output_type": "stream",
     "text": [
      "24.0 <class 'float'>\n"
     ]
    }
   ],
   "source": [
    "# Declarar una variable con un valor numérico usando la función float\n",
    "\n",
    "x = float(24)\n",
    "print(x, type(x))"
   ]
  },
  {
   "cell_type": "code",
   "execution_count": 31,
   "metadata": {},
   "outputs": [],
   "source": [
    "# Para hacer que salga en una ventana en la parte inferior de la pantalla\n",
    "?? x"
   ]
  },
  {
   "cell_type": "markdown",
   "metadata": {},
   "source": [
    "### Tipo de dato complejo"
   ]
  },
  {
   "cell_type": "code",
   "execution_count": 32,
   "metadata": {},
   "outputs": [
    {
     "name": "stdout",
     "output_type": "stream",
     "text": [
      "(24+20j) <class 'complex'>\n"
     ]
    }
   ],
   "source": [
    "# Declarar un variable con un valor del tipo complejo\n",
    "\n",
    "var = 24 + 20j\n",
    "print(var, type(var))"
   ]
  },
  {
   "cell_type": "code",
   "execution_count": 35,
   "metadata": {},
   "outputs": [
    {
     "name": "stdout",
     "output_type": "stream",
     "text": [
      "(24+20j) <class 'complex'>\n"
     ]
    }
   ],
   "source": [
    "# Declarar una variable con un un para de valores numéricos usando la función complex\n",
    "\n",
    "var = complex(24, 20)\n",
    "print(var, type(var))"
   ]
  },
  {
   "cell_type": "code",
   "execution_count": 36,
   "metadata": {},
   "outputs": [
    {
     "name": "stdout",
     "output_type": "stream",
     "text": [
      "24.0\n",
      "20.0\n"
     ]
    }
   ],
   "source": [
    "print(var.real)\n",
    "print(var.imag)"
   ]
  },
  {
   "cell_type": "markdown",
   "metadata": {},
   "source": [
    "## 3. Cadenas de caractéres\n",
    "\n",
    "Los tipos de datos string o cadenas de caractéres son ampliamente usados en la administración y análisis de datos. Python soporta el uso de dos diversos tipo de cadenas: ASCII y Unicode. \n",
    "\n",
    "- Las cadenas ASCII se delimitan por '...', \"...\" o \"\"\"...\"\"\". Las comillas triples delimitan cadenas multilínea. Las cadenas Unicode comienzan con un `u` seguido por la cadena conteniendo caracteres Unicode.\n",
    "\n",
    "- Unicode es un estándar de codificación de caracteres diseñado para facilitar el tratamiento de textos de múltiples lenguajes. Una cadena Unicode puede convertirse en una cadena ASCII seleccionando una codificación, por ejemplo el utf-8."
   ]
  },
  {
   "cell_type": "markdown",
   "metadata": {},
   "source": [
    "<div class=\"alert alert-info\" role=\"alert\">\n",
    "  <strong>Nota:</strong> En Python 3.x todas las cadenas de texto cuando se declaran son secuencias de caracteres Unicode, es decir no existen cadenas codificadas en CP-1252 o en UTF-8 y, por tanto, no sería correcto hablar de codificaciones específicas si no es para decir que es posible convertir una cadena de caracteres en una secuencia de bytes (o viceversa) con una codificación determinada (como UTF-8, por poner un ejemplo)\n",
    "</div>"
   ]
  },
  {
   "cell_type": "code",
   "execution_count": 10,
   "metadata": {
    "scrolled": true
   },
   "outputs": [
    {
     "name": "stdout",
     "output_type": "stream",
     "text": [
      "Aprender Python es fácil <class 'str'> \n",
      " Aprender Python es fácil <class 'str'> \n",
      " b'Aprender Python es f\\xc3\\xa1cil' <class 'bytes'> \n",
      " b'\\xff\\xfeA\\x00p\\x00r\\x00e\\x00n\\x00d\\x00e\\x00r\\x00 \\x00P\\x00y\\x00t\\x00h\\x00o\\x00n\\x00 \\x00e\\x00s\\x00 \\x00f\\x00\\xe1\\x00c\\x00i\\x00l\\x00' <class 'bytes'> \n",
      " b'Aprender Python es f\\xe1cil' <class 'bytes'>\n"
     ]
    }
   ],
   "source": [
    "a = 'Aprender Python es fácil'\n",
    "b = u'Aprender Python es fácil'\n",
    "c = b.encode('utf-8')\n",
    "d = b.encode('utf-16')\n",
    "e = b.encode('latin-1')\n",
    "print(a,  type(a), '\\n', \n",
    "      b, type(b), '\\n', \n",
    "      c, type(c), '\\n', \n",
    "      d, type(d), '\\n', \n",
    "      e, type(e))"
   ]
  },
  {
   "cell_type": "code",
   "execution_count": 12,
   "metadata": {},
   "outputs": [
    {
     "ename": "SyntaxError",
     "evalue": "bytes can only contain ASCII literal characters. (<ipython-input-12-fd8b7bacf7c1>, line 1)",
     "output_type": "error",
     "traceback": [
      "\u001b[1;36m  File \u001b[1;32m\"<ipython-input-12-fd8b7bacf7c1>\"\u001b[1;36m, line \u001b[1;32m1\u001b[0m\n\u001b[1;33m    b'í'\u001b[0m\n\u001b[1;37m        ^\u001b[0m\n\u001b[1;31mSyntaxError\u001b[0m\u001b[1;31m:\u001b[0m bytes can only contain ASCII literal characters.\n"
     ]
    }
   ],
   "source": [
    "b'í'"
   ]
  },
  {
   "cell_type": "markdown",
   "metadata": {},
   "source": [
    "Además es posible utilizar variables en cadenas de distintas formas:"
   ]
  },
  {
   "cell_type": "code",
   "execution_count": 27,
   "metadata": {},
   "outputs": [
    {
     "name": "stdout",
     "output_type": "stream",
     "text": [
      "La versión de Python es 3.6\n",
      "La versión de Python es 3.6\n",
      "La versión de Python es 3.6\n",
      "La versión de Python es 3.611\n",
      "La versión de Python es 3.6\n",
      "La versión de Python es 3.6\n",
      "La versión de Python es 3.6\n",
      "La versión de Python es 3.6\n",
      "La versión de Python es 3.6\n"
     ]
    }
   ],
   "source": [
    "print('La versión de Python es ' + str(3) + '.' + str(6))\n",
    "print('La versión de Python es %s.%s' % (3, 6))\n",
    "print('La versión de Python es %.1f' % (3.6))\n",
    "print('La versión de Python es %.3f' % (3.611232138167))\n",
    "print('La versión de Python es %(numero)s.%(decimal)s' % dict(numero=3, decimal=6))\n",
    "print('La versión de Python es {0}.{1}'.format(3, 6))\n",
    "print('La versión de Python es {0:.1f}'.format(3.611232138167))\n",
    "print('La versión de Python es {numero}.{decimal}'.format(numero=3, decimal=6))\n",
    "print('La versión de Python es {numero:.1f}'.format(numero=3.611232138167))"
   ]
  },
  {
   "cell_type": "code",
   "execution_count": 28,
   "metadata": {},
   "outputs": [],
   "source": [
    "?? dict"
   ]
  },
  {
   "cell_type": "code",
   "execution_count": 46,
   "metadata": {},
   "outputs": [
    {
     "name": "stdout",
     "output_type": "stream",
     "text": [
      "\"Machine Learning con Python\" <class 'str'>\n"
     ]
    }
   ],
   "source": [
    "# Definición de variables con tipo de valor 'str' (Unicode)\n",
    "\n",
    "x=str('\"Machine Learning con Python\"')\n",
    "print(x, type(x))"
   ]
  },
  {
   "cell_type": "code",
   "execution_count": 29,
   "metadata": {},
   "outputs": [
    {
     "name": "stdout",
     "output_type": "stream",
     "text": [
      "Machine Learning con Python <class 'str'>\n"
     ]
    }
   ],
   "source": [
    "x='Machine Learning con Python'\n",
    "print(x, type(x))"
   ]
  },
  {
   "cell_type": "code",
   "execution_count": 54,
   "metadata": {},
   "outputs": [
    {
     "name": "stdout",
     "output_type": "stream",
     "text": [
      " Machine Learning con Python  <class 'str'>\n"
     ]
    }
   ],
   "source": [
    "x=\" Machine Learning con Python \"\n",
    "print(x, type(x))"
   ]
  },
  {
   "cell_type": "markdown",
   "metadata": {},
   "source": [
    "help(str)"
   ]
  },
  {
   "cell_type": "markdown",
   "metadata": {},
   "source": [
    "Algunos métodos con las cadenas"
   ]
  },
  {
   "cell_type": "code",
   "execution_count": 55,
   "metadata": {},
   "outputs": [
    {
     "data": {
      "text/plain": [
       "' machine learning con python '"
      ]
     },
     "execution_count": 55,
     "metadata": {},
     "output_type": "execute_result"
    }
   ],
   "source": [
    "x.lower()"
   ]
  },
  {
   "cell_type": "code",
   "execution_count": 56,
   "metadata": {},
   "outputs": [
    {
     "data": {
      "text/plain": [
       "'Machine Learning con Python'"
      ]
     },
     "execution_count": 56,
     "metadata": {},
     "output_type": "execute_result"
    }
   ],
   "source": [
    "x.strip()"
   ]
  },
  {
   "cell_type": "code",
   "execution_count": 57,
   "metadata": {},
   "outputs": [
    {
     "data": {
      "text/plain": [
       "'Machine Learning con Python '"
      ]
     },
     "execution_count": 57,
     "metadata": {},
     "output_type": "execute_result"
    }
   ],
   "source": [
    "x.lstrip()"
   ]
  },
  {
   "cell_type": "code",
   "execution_count": 58,
   "metadata": {},
   "outputs": [
    {
     "data": {
      "text/plain": [
       "' Machine Learning con Python'"
      ]
     },
     "execution_count": 58,
     "metadata": {},
     "output_type": "execute_result"
    }
   ],
   "source": [
    "x.rstrip()"
   ]
  },
  {
   "cell_type": "code",
   "execution_count": null,
   "metadata": {},
   "outputs": [],
   "source": [
    "x.upper()"
   ]
  },
  {
   "cell_type": "code",
   "execution_count": null,
   "metadata": {},
   "outputs": [],
   "source": [
    "x.title()"
   ]
  },
  {
   "cell_type": "code",
   "execution_count": null,
   "metadata": {},
   "outputs": [],
   "source": [
    "x.split(\" \")"
   ]
  },
  {
   "cell_type": "code",
   "execution_count": null,
   "metadata": {},
   "outputs": [],
   "source": [
    "x=\" Machine Learning con Python \"\n",
    "print(x, type(x))"
   ]
  },
  {
   "cell_type": "code",
   "execution_count": null,
   "metadata": {},
   "outputs": [],
   "source": [
    "x.strip()"
   ]
  },
  {
   "cell_type": "code",
   "execution_count": null,
   "metadata": {},
   "outputs": [],
   "source": [
    "x = \"123\""
   ]
  },
  {
   "cell_type": "code",
   "execution_count": null,
   "metadata": {},
   "outputs": [],
   "source": [
    "x.zfill(10)"
   ]
  },
  {
   "cell_type": "code",
   "execution_count": null,
   "metadata": {},
   "outputs": [],
   "source": [
    "??x.zfill()"
   ]
  },
  {
   "cell_type": "markdown",
   "metadata": {},
   "source": [
    "## 4. Datos binarios: Bytes y arreglos de Bytes\n",
    "\n",
    "Las variables tipo bytes corresponden a secuencias inmutables de enteros pequeños en el rango 0 <= x < 256. Se pueden crear usando la función bytes().\n",
    "\n",
    "Las variables tipo bytearray corresponden a secuencias mutables de enteros pequeños en el rango 0 <= x < 256. Se pueden crear usando la función bytearray().\n",
    "\n",
    "bytes() comparte los mismos métodos que bytearray(), simplemente es una versión inmutable."
   ]
  },
  {
   "cell_type": "markdown",
   "metadata": {},
   "source": [
    "### Tipo de datos bytes"
   ]
  },
  {
   "cell_type": "code",
   "execution_count": 59,
   "metadata": {},
   "outputs": [
    {
     "name": "stdout",
     "output_type": "stream",
     "text": [
      "b'\\x01' <class 'bytes'> 1\n"
     ]
    }
   ],
   "source": [
    "# Creación de un objeto tipo bytes que contiene el valor 1\n",
    "\n",
    "x1=bytes([1])\n",
    "print(x1, type(x1), len(x1))"
   ]
  },
  {
   "cell_type": "code",
   "execution_count": 60,
   "metadata": {},
   "outputs": [
    {
     "name": "stdout",
     "output_type": "stream",
     "text": [
      "b'1' <class 'bytes'> 1\n"
     ]
    }
   ],
   "source": [
    "# Otro manera de crear bytes esa usando el prefijo b\n",
    "\n",
    "x2=b'1'\n",
    "print(x2, type(x2), len(x2))"
   ]
  },
  {
   "cell_type": "code",
   "execution_count": 61,
   "metadata": {},
   "outputs": [
    {
     "data": {
      "text/plain": [
       "False"
      ]
     },
     "execution_count": 61,
     "metadata": {},
     "output_type": "execute_result"
    }
   ],
   "source": [
    "x1 == x2"
   ]
  },
  {
   "cell_type": "code",
   "execution_count": null,
   "metadata": {},
   "outputs": [],
   "source": [
    "x1=bytes(\"1\", encoding=\"ascii\")\n",
    "print(x1, type(x1), len(x1))"
   ]
  },
  {
   "cell_type": "code",
   "execution_count": null,
   "metadata": {},
   "outputs": [],
   "source": [
    "x1 == x2"
   ]
  },
  {
   "cell_type": "code",
   "execution_count": 62,
   "metadata": {},
   "outputs": [
    {
     "data": {
      "text/plain": [
       "'\\x01'"
      ]
     },
     "execution_count": 62,
     "metadata": {},
     "output_type": "execute_result"
    }
   ],
   "source": [
    "# Transformar a str\n",
    "\n",
    "x1.decode(\"ascii\")"
   ]
  },
  {
   "cell_type": "code",
   "execution_count": 63,
   "metadata": {},
   "outputs": [
    {
     "name": "stdout",
     "output_type": "stream",
     "text": [
      "b'\\x00\\x00\\x00\\x00\\x00\\x00\\x00\\x00\\x00\\x00' <class 'bytes'> 10\n"
     ]
    }
   ],
   "source": [
    "# Creación de un objeto tipo bytes de largo 10\n",
    "\n",
    "x=bytes(10)\n",
    "print(x, type(x), len(x))"
   ]
  },
  {
   "cell_type": "code",
   "execution_count": 64,
   "metadata": {},
   "outputs": [
    {
     "data": {
      "text/plain": [
       "0"
      ]
     },
     "execution_count": 64,
     "metadata": {},
     "output_type": "execute_result"
    }
   ],
   "source": [
    "# Acceder al elemento 0 de la secuencia\n",
    "\n",
    "x[0]"
   ]
  },
  {
   "cell_type": "markdown",
   "metadata": {
    "scrolled": true
   },
   "source": [
    "# Cambiar el valor del elemento 0\n",
    "\n",
    "x[0]=1\n",
    "x"
   ]
  },
  {
   "cell_type": "code",
   "execution_count": 66,
   "metadata": {},
   "outputs": [
    {
     "name": "stdout",
     "output_type": "stream",
     "text": [
      "bytearray(b'Aprender python es facil') <class 'bytearray'> 24\n"
     ]
    }
   ],
   "source": [
    "# Crear un objeto tipo bytearray a partir de un string\n",
    "\n",
    "x=bytearray(\"Aprender python es facil\", \"utf8\")\n",
    "print(x, type(x), len(x))"
   ]
  },
  {
   "cell_type": "code",
   "execution_count": null,
   "metadata": {},
   "outputs": [],
   "source": [
    "help(bytearray)"
   ]
  },
  {
   "cell_type": "code",
   "execution_count": 67,
   "metadata": {},
   "outputs": [
    {
     "data": {
      "text/plain": [
       "'Aprender python es facil'"
      ]
     },
     "execution_count": 67,
     "metadata": {},
     "output_type": "execute_result"
    }
   ],
   "source": [
    "# Usar el método decode() para transformarlo en string\n",
    "\n",
    "x.decode()"
   ]
  },
  {
   "cell_type": "code",
   "execution_count": 68,
   "metadata": {},
   "outputs": [
    {
     "data": {
      "text/plain": [
       "'417072656e64657220707974686f6e20657320666163696c'"
      ]
     },
     "execution_count": 68,
     "metadata": {},
     "output_type": "execute_result"
    }
   ],
   "source": [
    "# Usar el método hex() para transformarlo en hexadecimal\n",
    "\n",
    "x.hex()"
   ]
  },
  {
   "cell_type": "code",
   "execution_count": 69,
   "metadata": {},
   "outputs": [
    {
     "data": {
      "text/plain": [
       "65"
      ]
     },
     "execution_count": 69,
     "metadata": {},
     "output_type": "execute_result"
    }
   ],
   "source": [
    "# Acceder al elemento 0 de la secuencia\n",
    "\n",
    "x[0]"
   ]
  },
  {
   "cell_type": "code",
   "execution_count": 70,
   "metadata": {},
   "outputs": [
    {
     "data": {
      "text/plain": [
       "bytearray(b'Iprender python es facil')"
      ]
     },
     "execution_count": 70,
     "metadata": {},
     "output_type": "execute_result"
    }
   ],
   "source": [
    "# Podemos cambiar el valor del primer elemento\n",
    "\n",
    "x[0]=73\n",
    "x"
   ]
  },
  {
   "cell_type": "markdown",
   "metadata": {},
   "source": [
    "## 5. Listas\n",
    "\n",
    "Una lista es una secuencia ordenada de valores. Son mutables, es decir, puede redefinirse el número de elementos y cambiar sus valores. Se pueden crear usando la función list() o los símbolos [ ].\n",
    "\n",
    "Las listas son el tipo de variables más usadas en Python, dada su facilidad y flexibilidad para almacenar diferentes tipos de valores."
   ]
  },
  {
   "cell_type": "markdown",
   "metadata": {},
   "source": [
    "### Definir un objeto tipo lista"
   ]
  },
  {
   "cell_type": "code",
   "execution_count": 71,
   "metadata": {},
   "outputs": [
    {
     "name": "stdout",
     "output_type": "stream",
     "text": [
      "[] <class 'list'> 0\n"
     ]
    }
   ],
   "source": [
    "# Crear una lista vacía\n",
    "\n",
    "x=list()\n",
    "print(x, type(x), len(x))"
   ]
  },
  {
   "cell_type": "code",
   "execution_count": 72,
   "metadata": {},
   "outputs": [
    {
     "name": "stdout",
     "output_type": "stream",
     "text": [
      "[1, 2, 3] <class 'list'> 3\n"
     ]
    }
   ],
   "source": [
    "# Crear una lista que contiene un tres de valores enteros\n",
    "\n",
    "x=list([1,2,3])\n",
    "print(x, type(x), len(x))"
   ]
  },
  {
   "cell_type": "code",
   "execution_count": 73,
   "metadata": {},
   "outputs": [
    {
     "name": "stdout",
     "output_type": "stream",
     "text": [
      "[1, 2.0, '3', 4.0] <class 'list'> 4\n"
     ]
    }
   ],
   "source": [
    "# Crear una lista que mezcla enteros, punto flotante y string\n",
    "\n",
    "x=list([1,2.,'3',4.])\n",
    "print(x, type(x), len(x))"
   ]
  },
  {
   "cell_type": "code",
   "execution_count": 74,
   "metadata": {},
   "outputs": [
    {
     "data": {
      "text/plain": [
       "'3'"
      ]
     },
     "execution_count": 74,
     "metadata": {},
     "output_type": "execute_result"
    }
   ],
   "source": [
    "x[2]"
   ]
  },
  {
   "cell_type": "code",
   "execution_count": 75,
   "metadata": {},
   "outputs": [
    {
     "data": {
      "text/plain": [
       "2.0"
      ]
     },
     "execution_count": 75,
     "metadata": {},
     "output_type": "execute_result"
    }
   ],
   "source": [
    "x[1]"
   ]
  },
  {
   "cell_type": "code",
   "execution_count": 76,
   "metadata": {},
   "outputs": [
    {
     "name": "stdout",
     "output_type": "stream",
     "text": [
      "[1, 2.0, '3', 4.0] <class 'list'> 4\n"
     ]
    }
   ],
   "source": [
    "# Crear una lista usando los símbolos []\n",
    "\n",
    "x=[1,2.,'3',4.]\n",
    "print(x, type(x), len(x))"
   ]
  },
  {
   "cell_type": "markdown",
   "metadata": {},
   "source": [
    "### Acceder a un elemento y cambiar su valor"
   ]
  },
  {
   "cell_type": "code",
   "execution_count": 77,
   "metadata": {},
   "outputs": [
    {
     "data": {
      "text/plain": [
       "1"
      ]
     },
     "execution_count": 77,
     "metadata": {},
     "output_type": "execute_result"
    }
   ],
   "source": [
    "# Acceder al primer elemento de la lista\n",
    "\n",
    "x[0]"
   ]
  },
  {
   "cell_type": "code",
   "execution_count": 78,
   "metadata": {},
   "outputs": [
    {
     "data": {
      "text/plain": [
       "['Machine Learning con Python', 2.0, '3', 4.0]"
      ]
     },
     "execution_count": 78,
     "metadata": {},
     "output_type": "execute_result"
    }
   ],
   "source": [
    "# Cambiar el valor del elemento 0\n",
    "\n",
    "x[0]='Machine Learning con Python'\n",
    "x"
   ]
  },
  {
   "cell_type": "code",
   "execution_count": 79,
   "metadata": {},
   "outputs": [
    {
     "data": {
      "text/plain": [
       "4.0"
      ]
     },
     "execution_count": 79,
     "metadata": {},
     "output_type": "execute_result"
    }
   ],
   "source": [
    "x[3]"
   ]
  },
  {
   "cell_type": "code",
   "execution_count": 80,
   "metadata": {},
   "outputs": [
    {
     "data": {
      "text/plain": [
       "'3'"
      ]
     },
     "execution_count": 80,
     "metadata": {},
     "output_type": "execute_result"
    }
   ],
   "source": [
    "# Acceder al último elemento de la lista\n",
    "\n",
    "x[-2]"
   ]
  },
  {
   "cell_type": "markdown",
   "metadata": {},
   "source": [
    "### Acceder a un slice de la lista"
   ]
  },
  {
   "cell_type": "code",
   "execution_count": 81,
   "metadata": {},
   "outputs": [
    {
     "data": {
      "text/plain": [
       "['Machine Learning con Python', 2.0]"
      ]
     },
     "execution_count": 81,
     "metadata": {},
     "output_type": "execute_result"
    }
   ],
   "source": [
    "# Acceder a un slice desde el primer elemento hasta el segundo elemento. Usamos los indices 0 y 2\n",
    "\n",
    "x[0:2]"
   ]
  },
  {
   "cell_type": "markdown",
   "metadata": {},
   "source": [
    "## Acceder a un slice desde el primer elemento hasta el segundo elemento. Usamos los indices 0 y 2\n",
    "\n",
    "x[:2]"
   ]
  },
  {
   "cell_type": "code",
   "execution_count": null,
   "metadata": {},
   "outputs": [],
   "source": [
    "# Acceder a un slice desde el tercer elemento hasta el último elemento. Usamos los índices 2 y el último lo dejamos en blanco\n",
    "\n",
    "x[2:]"
   ]
  },
  {
   "cell_type": "code",
   "execution_count": null,
   "metadata": {},
   "outputs": [],
   "source": [
    "# Acceder a los últimos dos elementos de la lista. Usamos los índices -2 y dejamos en blanco el último\n",
    "\n",
    "x[-3:]"
   ]
  },
  {
   "cell_type": "markdown",
   "metadata": {},
   "source": [
    "### Agregar elementos a la lista"
   ]
  },
  {
   "cell_type": "code",
   "execution_count": 83,
   "metadata": {},
   "outputs": [
    {
     "data": {
      "text/plain": [
       "['Machine Learning con Python', 2.0, '3', 4.0, 5, '6']"
      ]
     },
     "execution_count": 83,
     "metadata": {},
     "output_type": "execute_result"
    }
   ],
   "source": [
    "# Usar el operador suma\n",
    "\n",
    "x=x+[5,'6']\n",
    "x"
   ]
  },
  {
   "cell_type": "code",
   "execution_count": 84,
   "metadata": {},
   "outputs": [
    {
     "data": {
      "text/plain": [
       "['Machine Learning con Python', 2.0, '3', 4.0, 5, '6', 7.0]"
      ]
     },
     "execution_count": 84,
     "metadata": {},
     "output_type": "execute_result"
    }
   ],
   "source": [
    "# Usar el método append. El nuevo elemento se agrega al final de la lista.\n",
    "# En caso que el elemento sea una lista, esta se agrega tal cual\n",
    "\n",
    "x.append(7.)\n",
    "x"
   ]
  },
  {
   "cell_type": "code",
   "execution_count": 88,
   "metadata": {},
   "outputs": [
    {
     "data": {
      "text/plain": [
       "['Machine Learning con Python',\n",
       " 2.0,\n",
       " '3',\n",
       " 4.0,\n",
       " 5,\n",
       " '6',\n",
       " 7.0,\n",
       " [8, '9'],\n",
       " 10,\n",
       " '11',\n",
       " '6',\n",
       " 10,\n",
       " '11',\n",
       " ['6', 7, 8.0],\n",
       " [8, '9']]"
      ]
     },
     "execution_count": 88,
     "metadata": {},
     "output_type": "execute_result"
    }
   ],
   "source": [
    "# agregar la lista [8,'9']\n",
    "x.append([8,'9'])\n",
    "x"
   ]
  },
  {
   "cell_type": "code",
   "execution_count": 86,
   "metadata": {},
   "outputs": [
    {
     "data": {
      "text/plain": [
       "['Machine Learning con Python',\n",
       " 2.0,\n",
       " '3',\n",
       " 4.0,\n",
       " 5,\n",
       " '6',\n",
       " 7.0,\n",
       " [8, '9'],\n",
       " 10,\n",
       " '11',\n",
       " '6']"
      ]
     },
     "execution_count": 86,
     "metadata": {},
     "output_type": "execute_result"
    }
   ],
   "source": [
    "# Usar el método extend. El nuevo elemento se agrega al final de la lista.\n",
    "# En caso de ser una lista, cada elemento se agrega por separado\n",
    "\n",
    "x.extend([10,'11','6'])\n",
    "x"
   ]
  },
  {
   "cell_type": "code",
   "execution_count": 87,
   "metadata": {},
   "outputs": [
    {
     "data": {
      "text/plain": [
       "['Machine Learning con Python',\n",
       " 2.0,\n",
       " '3',\n",
       " 4.0,\n",
       " 5,\n",
       " '6',\n",
       " 7.0,\n",
       " [8, '9'],\n",
       " 10,\n",
       " '11',\n",
       " '6',\n",
       " 10,\n",
       " '11',\n",
       " ['6', 7, 8.0]]"
      ]
     },
     "execution_count": 87,
     "metadata": {},
     "output_type": "execute_result"
    }
   ],
   "source": [
    "x.extend([10,'11',['6', 7, 8.0]])\n",
    "x"
   ]
  },
  {
   "cell_type": "markdown",
   "metadata": {},
   "source": [
    "### Buscar elementos en una lista"
   ]
  },
  {
   "cell_type": "code",
   "execution_count": 94,
   "metadata": {},
   "outputs": [
    {
     "data": {
      "text/plain": [
       "2"
      ]
     },
     "execution_count": 94,
     "metadata": {},
     "output_type": "execute_result"
    }
   ],
   "source": [
    "# Usar el método count() para contar ocurrencias de algún elemento\n",
    "\n",
    "x.count([8, '9'])"
   ]
  },
  {
   "cell_type": "code",
   "execution_count": 90,
   "metadata": {},
   "outputs": [
    {
     "data": {
      "text/plain": [
       "False"
      ]
     },
     "execution_count": 90,
     "metadata": {},
     "output_type": "execute_result"
    }
   ],
   "source": [
    "# Usar la función in para determinar si elemento existe en la lista\n",
    "\n",
    "'5' in x"
   ]
  },
  {
   "cell_type": "code",
   "execution_count": 92,
   "metadata": {},
   "outputs": [
    {
     "data": {
      "text/plain": [
       "5"
      ]
     },
     "execution_count": 92,
     "metadata": {},
     "output_type": "execute_result"
    }
   ],
   "source": [
    "# Determinar el índice en el cual se encuentra el elemento\n",
    "\n",
    "x.index('6')\n",
    "# help(x.index)"
   ]
  },
  {
   "cell_type": "code",
   "execution_count": 93,
   "metadata": {},
   "outputs": [
    {
     "ename": "ValueError",
     "evalue": "894556456465456 is not in list",
     "output_type": "error",
     "traceback": [
      "\u001b[1;31m---------------------------------------------------------------------------\u001b[0m",
      "\u001b[1;31mValueError\u001b[0m                                Traceback (most recent call last)",
      "\u001b[1;32m<ipython-input-93-c147c2711406>\u001b[0m in \u001b[0;36m<module>\u001b[1;34m\u001b[0m\n\u001b[0;32m      1\u001b[0m \u001b[1;31m# ¿Que suecede si buscamos un valor que no se encuentra en la lista?\u001b[0m\u001b[1;33m\u001b[0m\u001b[1;33m\u001b[0m\u001b[1;33m\u001b[0m\u001b[0m\n\u001b[0;32m      2\u001b[0m \u001b[1;33m\u001b[0m\u001b[0m\n\u001b[1;32m----> 3\u001b[1;33m \u001b[0mx\u001b[0m\u001b[1;33m.\u001b[0m\u001b[0mindex\u001b[0m\u001b[1;33m(\u001b[0m\u001b[1;36m894556456465456\u001b[0m\u001b[1;33m)\u001b[0m\u001b[1;33m\u001b[0m\u001b[1;33m\u001b[0m\u001b[0m\n\u001b[0m",
      "\u001b[1;31mValueError\u001b[0m: 894556456465456 is not in list"
     ]
    }
   ],
   "source": [
    "# ¿Que suecede si buscamos un valor que no se encuentra en la lista?\n",
    "\n",
    "x.index(894556456465456)"
   ]
  },
  {
   "cell_type": "markdown",
   "metadata": {},
   "source": [
    "### Eliminar elementos de una lista"
   ]
  },
  {
   "cell_type": "code",
   "execution_count": 95,
   "metadata": {},
   "outputs": [
    {
     "data": {
      "text/plain": [
       "['Machine Learning con Python',\n",
       " 2.0,\n",
       " '3',\n",
       " 4.0,\n",
       " 5,\n",
       " '6',\n",
       " 7.0,\n",
       " [8, '9'],\n",
       " 10,\n",
       " '11',\n",
       " '6',\n",
       " 10,\n",
       " '11',\n",
       " ['6', 7, 8.0],\n",
       " [8, '9']]"
      ]
     },
     "execution_count": 95,
     "metadata": {},
     "output_type": "execute_result"
    }
   ],
   "source": [
    "x"
   ]
  },
  {
   "cell_type": "code",
   "execution_count": 96,
   "metadata": {},
   "outputs": [
    {
     "data": {
      "text/plain": [
       "[2.0,\n",
       " '3',\n",
       " 4.0,\n",
       " 5,\n",
       " '6',\n",
       " 7.0,\n",
       " [8, '9'],\n",
       " 10,\n",
       " '11',\n",
       " '6',\n",
       " 10,\n",
       " '11',\n",
       " ['6', 7, 8.0],\n",
       " [8, '9']]"
      ]
     },
     "execution_count": 96,
     "metadata": {},
     "output_type": "execute_result"
    }
   ],
   "source": [
    "# Eliminar elementos usando el indice\n",
    "\n",
    "del x[0]\n",
    "x"
   ]
  },
  {
   "cell_type": "code",
   "execution_count": 97,
   "metadata": {},
   "outputs": [
    {
     "data": {
      "text/plain": [
       "[2.0,\n",
       " '3',\n",
       " 4.0,\n",
       " 5,\n",
       " 7.0,\n",
       " [8, '9'],\n",
       " 10,\n",
       " '11',\n",
       " '6',\n",
       " 10,\n",
       " '11',\n",
       " ['6', 7, 8.0],\n",
       " [8, '9']]"
      ]
     },
     "execution_count": 97,
     "metadata": {},
     "output_type": "execute_result"
    }
   ],
   "source": [
    "# Eliminar elementos usando el método remove(). Elimina la primera ocurrencia del elemento\n",
    "\n",
    "x.remove('6')\n",
    "x"
   ]
  },
  {
   "cell_type": "code",
   "execution_count": null,
   "metadata": {},
   "outputs": [],
   "source": [
    "# ¿Que suecede si borramos un elemento que no existe en la lista?\n",
    "\n",
    "x.remove(20)\n",
    "x"
   ]
  },
  {
   "cell_type": "code",
   "execution_count": 98,
   "metadata": {},
   "outputs": [
    {
     "data": {
      "text/plain": [
       "[2.0,\n",
       " '3',\n",
       " 4.0,\n",
       " 5,\n",
       " 7.0,\n",
       " [8, '9'],\n",
       " 10,\n",
       " '11',\n",
       " '6',\n",
       " 10,\n",
       " '11',\n",
       " ['6', 7, 8.0],\n",
       " [8, '9']]"
      ]
     },
     "execution_count": 98,
     "metadata": {},
     "output_type": "execute_result"
    }
   ],
   "source": [
    "x"
   ]
  },
  {
   "cell_type": "code",
   "execution_count": 101,
   "metadata": {},
   "outputs": [
    {
     "name": "stdout",
     "output_type": "stream",
     "text": [
      "4\n",
      "[1, 2, 3]\n"
     ]
    }
   ],
   "source": [
    "# Eliminar elementos usando el método pop().\n",
    "# Este método extrae una copia del último elemento de la lista y lo remueve\n",
    "\n",
    "y=x.pop()\n",
    "print(y)\n",
    "print(x)"
   ]
  },
  {
   "cell_type": "code",
   "execution_count": 102,
   "metadata": {},
   "outputs": [
    {
     "name": "stdout",
     "output_type": "stream",
     "text": [
      "1\n",
      "[2, 3]\n"
     ]
    }
   ],
   "source": [
    "y=x.pop(0)\n",
    "print(y)\n",
    "print(x)"
   ]
  },
  {
   "cell_type": "code",
   "execution_count": null,
   "metadata": {},
   "outputs": [],
   "source": [
    "help(x)"
   ]
  },
  {
   "cell_type": "markdown",
   "metadata": {},
   "source": [
    "### List Comprehensions\n",
    "Las comprensiones son constructos que permiten que las secuencias se construyan a partir de otras secuencias.\n",
    "\n",
    "\n",
    "<img src=\"images/listComprehensions.gif\" width=\"700\">"
   ]
  },
  {
   "cell_type": "code",
   "execution_count": 99,
   "metadata": {},
   "outputs": [
    {
     "data": {
      "text/plain": [
       "[1, 2, 3, 4]"
      ]
     },
     "execution_count": 99,
     "metadata": {},
     "output_type": "execute_result"
    }
   ],
   "source": [
    "# Definimos una lista\n",
    "\n",
    "x = [1, 2, 3, 4]\n",
    "x"
   ]
  },
  {
   "cell_type": "code",
   "execution_count": 100,
   "metadata": {},
   "outputs": [
    {
     "name": "stdout",
     "output_type": "stream",
     "text": [
      "[1, 4, 9, 16]\n"
     ]
    }
   ],
   "source": [
    "# ¿Qué hacemos si queremos elevar al cuadrado a todos los elementos de la lista definida?\n",
    "\n",
    "x2 = [e ** 2 for e in x]\n",
    "print(x2)"
   ]
  },
  {
   "cell_type": "code",
   "execution_count": 103,
   "metadata": {},
   "outputs": [
    {
     "name": "stdout",
     "output_type": "stream",
     "text": [
      "[4]\n"
     ]
    }
   ],
   "source": [
    "x2 = [e ** 2 for e in x if e < 3]\n",
    "print(x2)"
   ]
  },
  {
   "cell_type": "code",
   "execution_count": 104,
   "metadata": {},
   "outputs": [
    {
     "data": {
      "text/plain": [
       "[2, 3, 'Machine Learning con Pyhthon']"
      ]
     },
     "execution_count": 104,
     "metadata": {},
     "output_type": "execute_result"
    }
   ],
   "source": [
    "# Agregemos un elemento más a la lista\n",
    "\n",
    "x.append(\"Machine Learning con Pyhthon\")\n",
    "x"
   ]
  },
  {
   "cell_type": "raw",
   "metadata": {},
   "source": [
    "#  Ahora ... ¿Qué hacemos si queremos elevar al cuadrado a todos los elementos enteros de la lista definida?\n",
    "\n",
    "x2 = [e ** 2 for e in x]\n",
    "print(x2)"
   ]
  },
  {
   "cell_type": "raw",
   "metadata": {},
   "source": [
    "# Agreguemos una condición de que el tipo de valor sea entero\n",
    "\n",
    "x2 = [e ** 2 for e in x if type(e) == int]\n",
    "print(x2)"
   ]
  },
  {
   "cell_type": "code",
   "execution_count": 107,
   "metadata": {},
   "outputs": [
    {
     "data": {
      "text/plain": [
       "[2, 3, 'Machine Learning con Pyhthon']"
      ]
     },
     "execution_count": 107,
     "metadata": {},
     "output_type": "execute_result"
    }
   ],
   "source": [
    "x"
   ]
  },
  {
   "cell_type": "code",
   "execution_count": 110,
   "metadata": {},
   "outputs": [],
   "source": [
    "# Otra forma de resolverlo (... las funciones map, filter y lambda los veremos más adelante)\n",
    "\n",
    "x2_ = list(filter(lambda e: type(e) == int, x))"
   ]
  },
  {
   "cell_type": "code",
   "execution_count": 111,
   "metadata": {},
   "outputs": [
    {
     "data": {
      "text/plain": [
       "[2, 3]"
      ]
     },
     "execution_count": 111,
     "metadata": {},
     "output_type": "execute_result"
    }
   ],
   "source": [
    "x2_"
   ]
  },
  {
   "cell_type": "code",
   "execution_count": 112,
   "metadata": {},
   "outputs": [
    {
     "data": {
      "text/plain": [
       "[4, 9]"
      ]
     },
     "execution_count": 112,
     "metadata": {},
     "output_type": "execute_result"
    }
   ],
   "source": [
    "x2 = list(map(lambda e: e**2, x2_))\n",
    "x2"
   ]
  },
  {
   "cell_type": "markdown",
   "metadata": {},
   "source": [
    "## 6. Tuplas\n",
    "\n",
    "Una tupla es una lista inmutable. Una tupla no puede ser alterada de ninguna manera una vez definida.\n",
    "\n",
    "Se pueden crear usando la función tuple() o los símbolos ( ).\n",
    "\n",
    "Las tuplas no tienen los métodos append(), extend(), insert(), remove() y pop()"
   ]
  },
  {
   "cell_type": "markdown",
   "metadata": {},
   "source": [
    "### Definir un objeto tipo tupla"
   ]
  },
  {
   "cell_type": "code",
   "execution_count": 113,
   "metadata": {},
   "outputs": [
    {
     "name": "stdout",
     "output_type": "stream",
     "text": [
      "() <class 'tuple'> 0\n"
     ]
    }
   ],
   "source": [
    "# Crear una tupla vacía\n",
    "\n",
    "x=tuple()\n",
    "print(x, type(x), len(x))"
   ]
  },
  {
   "cell_type": "code",
   "execution_count": 114,
   "metadata": {},
   "outputs": [
    {
     "name": "stdout",
     "output_type": "stream",
     "text": [
      "(1, 2.0, '3', 4.0) <class 'tuple'> 4\n"
     ]
    }
   ],
   "source": [
    "# Crear una tupla usando la función tuple()\n",
    "\n",
    "x=tuple([1,2.,'3',4.])\n",
    "print(x, type(x), len(x))"
   ]
  },
  {
   "cell_type": "code",
   "execution_count": 115,
   "metadata": {},
   "outputs": [
    {
     "name": "stdout",
     "output_type": "stream",
     "text": [
      "(1, 2.0, '3', 4.0) <class 'tuple'> 4\n"
     ]
    }
   ],
   "source": [
    "# Crear una tupla usando los símbolos ()\n",
    "\n",
    "x=(1,2.,'3',4.)\n",
    "print(x, type(x), len(x))"
   ]
  },
  {
   "cell_type": "markdown",
   "metadata": {},
   "source": [
    "### Acceder a un elemento"
   ]
  },
  {
   "cell_type": "code",
   "execution_count": 116,
   "metadata": {},
   "outputs": [
    {
     "data": {
      "text/plain": [
       "1"
      ]
     },
     "execution_count": 116,
     "metadata": {},
     "output_type": "execute_result"
    }
   ],
   "source": [
    "# Acceder al elemento 0 de la lista\n",
    "\n",
    "x[0]"
   ]
  },
  {
   "cell_type": "code",
   "execution_count": 117,
   "metadata": {},
   "outputs": [
    {
     "ename": "TypeError",
     "evalue": "'tuple' object does not support item assignment",
     "output_type": "error",
     "traceback": [
      "\u001b[1;31m---------------------------------------------------------------------------\u001b[0m",
      "\u001b[1;31mTypeError\u001b[0m                                 Traceback (most recent call last)",
      "\u001b[1;32m<ipython-input-117-abf8cce644ff>\u001b[0m in \u001b[0;36m<module>\u001b[1;34m\u001b[0m\n\u001b[0;32m      1\u001b[0m \u001b[1;31m# ¿Que sucede si tratamos de cambiar el valor del elemento 0?\u001b[0m\u001b[1;33m\u001b[0m\u001b[1;33m\u001b[0m\u001b[1;33m\u001b[0m\u001b[0m\n\u001b[0;32m      2\u001b[0m \u001b[1;33m\u001b[0m\u001b[0m\n\u001b[1;32m----> 3\u001b[1;33m \u001b[0mx\u001b[0m\u001b[1;33m[\u001b[0m\u001b[1;36m0\u001b[0m\u001b[1;33m]\u001b[0m\u001b[1;33m=\u001b[0m\u001b[1;34m'Hola mundo'\u001b[0m\u001b[1;33m\u001b[0m\u001b[1;33m\u001b[0m\u001b[0m\n\u001b[0m\u001b[0;32m      4\u001b[0m \u001b[0mx\u001b[0m\u001b[1;33m\u001b[0m\u001b[1;33m\u001b[0m\u001b[0m\n",
      "\u001b[1;31mTypeError\u001b[0m: 'tuple' object does not support item assignment"
     ]
    }
   ],
   "source": [
    "# ¿Que sucede si tratamos de cambiar el valor del elemento 0?\n",
    "\n",
    "x[0]='Hola mundo'\n",
    "x"
   ]
  },
  {
   "cell_type": "markdown",
   "metadata": {},
   "source": [
    "### Acceder a un slice de la tupla"
   ]
  },
  {
   "cell_type": "code",
   "execution_count": null,
   "metadata": {},
   "outputs": [],
   "source": [
    "# Acceder a un slice desde el primer elemento hasta el segundo elemento. Usamos los indices 0 y 2\n",
    "\n",
    "x[0:2]"
   ]
  },
  {
   "cell_type": "code",
   "execution_count": null,
   "metadata": {},
   "outputs": [],
   "source": [
    "# Acceder a un slice desde el tercer elemento hasta el último elemento. Usamos los índices 2 y el último lo dejamos en blanco\n",
    "\n",
    "x[2:]"
   ]
  },
  {
   "cell_type": "code",
   "execution_count": null,
   "metadata": {},
   "outputs": [],
   "source": [
    "# Acceder a los últimos dos elementos de la tupla. Usamos los índices -2 y dejamos en blanco el último\n",
    "\n",
    "x[-2:]"
   ]
  },
  {
   "cell_type": "raw",
   "metadata": {},
   "source": [
    "# Fibonacci\n",
    "a,b,c=0,1,0\n",
    "for x in range(30):\n",
    "    print(x+1,\":\",a)\n",
    "    c=a+b\n",
    "    a=b\n",
    "    b=c\n",
    "    "
   ]
  },
  {
   "cell_type": "markdown",
   "metadata": {},
   "source": [
    "## 7. Rangos\n",
    "\n",
    "Un rango corresponde a una secuencia inmutable de números y es comúnmente usada en ciclos for para repetir un número finito de veces alguna expresión.\n",
    "\n",
    "Los rangos se pueden crear usando la función range(). Puede ser llamada usando un sólo parámetro **range(stop)**, dos parámetros **range(start,stop)** y hasta tres parámetros **range(start, stop, step)**\n",
    "\n",
    "En Python 2 range() era una función que creaba una lista de largo finitio, y también existía una función llamada xrange() que creaba un tipo de dato xrange(). En Python 3 la función original range() fue descontinuada y ahora range es un tipo de dato."
   ]
  },
  {
   "cell_type": "code",
   "execution_count": null,
   "metadata": {
    "scrolled": true
   },
   "outputs": [],
   "source": [
    "x=range(0,10)\n",
    "print(x, type(x))"
   ]
  },
  {
   "cell_type": "code",
   "execution_count": null,
   "metadata": {},
   "outputs": [],
   "source": [
    "for i in x:\n",
    "    print(i)"
   ]
  },
  {
   "cell_type": "code",
   "execution_count": null,
   "metadata": {},
   "outputs": [],
   "source": [
    "x=range(1,10,2)\n",
    "x"
   ]
  },
  {
   "cell_type": "code",
   "execution_count": null,
   "metadata": {},
   "outputs": [],
   "source": [
    "for i in x:\n",
    "    print(i)"
   ]
  },
  {
   "cell_type": "code",
   "execution_count": null,
   "metadata": {},
   "outputs": [],
   "source": [
    "# ¿Qué sucede si tratamos de crear un rango usando un paso no entero\n",
    "x=range(1,10,0.1)"
   ]
  },
  {
   "cell_type": "markdown",
   "metadata": {},
   "source": [
    "## 8. Conjuntos\n",
    "\n",
    "Un conjunto es una colección no ordenada y sin elementos repetidos. Los usos básicos de éstos incluyen verificación de pertenencia y eliminación de entradas duplicadas. Los conjuntos también soportan operaciones matemáticas como la unión, intersección, diferencia, y diferencia simétrica.\n",
    "\n",
    "Los conjuntos se pueden crear usando la función set() o los símbolos {}."
   ]
  },
  {
   "cell_type": "markdown",
   "metadata": {},
   "source": [
    "### Definir un objeto tipo conjunto"
   ]
  },
  {
   "cell_type": "code",
   "execution_count": null,
   "metadata": {},
   "outputs": [],
   "source": [
    "x = set(['machine', 'learning'])\n",
    "print(x, type(x), len(x))"
   ]
  },
  {
   "cell_type": "code",
   "execution_count": null,
   "metadata": {},
   "outputs": [],
   "source": [
    "x={'machine', 'learning'}\n",
    "print(x, type(x), len(x))"
   ]
  },
  {
   "cell_type": "code",
   "execution_count": null,
   "metadata": {},
   "outputs": [],
   "source": [
    "# Crear un conjunto con múltiples elementos\n",
    "\n",
    "element_set = {'machine', 'learning', 'python', 'sklearn', 'tpot', 'xgboost'}\n",
    "print(element_set)"
   ]
  },
  {
   "cell_type": "code",
   "execution_count": null,
   "metadata": {},
   "outputs": [],
   "source": [
    "# Determinar si elemento existe en set\n",
    "\n",
    "'python' in element_set "
   ]
  },
  {
   "cell_type": "code",
   "execution_count": null,
   "metadata": {},
   "outputs": [],
   "source": [
    "# Determinar si elemento existe en set\n",
    "\n",
    "'deep learning' in element_set "
   ]
  },
  {
   "cell_type": "markdown",
   "metadata": {},
   "source": [
    "### Definir un conjunto usando letras únicas de palabras"
   ]
  },
  {
   "cell_type": "code",
   "execution_count": 131,
   "metadata": {},
   "outputs": [
    {
     "name": "stdout",
     "output_type": "stream",
     "text": [
      "Letras únicas en x:  {'e', 'n', 'c', 'i', 'a', 'm', 'h'}\n",
      "Letras únicas en y:  {'n', 'y', 'p', 't', 'o', 'h'}\n"
     ]
    }
   ],
   "source": [
    "x=set('machine')\n",
    "y=set('python')\n",
    "\n",
    "print(\"Letras únicas en x: \", x)\n",
    "print(\"Letras únicas en y: \", y)"
   ]
  },
  {
   "cell_type": "code",
   "execution_count": 132,
   "metadata": {},
   "outputs": [
    {
     "data": {
      "text/plain": [
       "{'a', 'c', 'e', 'i', 'm'}"
      ]
     },
     "execution_count": 132,
     "metadata": {},
     "output_type": "execute_result"
    }
   ],
   "source": [
    "# letras en x pero no en y\n",
    "\n",
    "x-y"
   ]
  },
  {
   "cell_type": "code",
   "execution_count": 133,
   "metadata": {},
   "outputs": [
    {
     "data": {
      "text/plain": [
       "{'a', 'c', 'e', 'h', 'i', 'm', 'n', 'o', 'p', 't', 'y'}"
      ]
     },
     "execution_count": 133,
     "metadata": {},
     "output_type": "execute_result"
    }
   ],
   "source": [
    "# letras en a o en b o en ambas\n",
    "\n",
    "x | y"
   ]
  },
  {
   "cell_type": "code",
   "execution_count": 134,
   "metadata": {},
   "outputs": [
    {
     "data": {
      "text/plain": [
       "{'h', 'n'}"
      ]
     },
     "execution_count": 134,
     "metadata": {},
     "output_type": "execute_result"
    }
   ],
   "source": [
    "# letras en a y en b\n",
    "\n",
    "x & y"
   ]
  },
  {
   "cell_type": "code",
   "execution_count": 135,
   "metadata": {},
   "outputs": [
    {
     "data": {
      "text/plain": [
       "{'a', 'c', 'e', 'i', 'm', 'o', 'p', 't', 'y'}"
      ]
     },
     "execution_count": 135,
     "metadata": {},
     "output_type": "execute_result"
    }
   ],
   "source": [
    "# letras en x o y pero no en ambos\n",
    "\n",
    "x ^ y"
   ]
  },
  {
   "cell_type": "code",
   "execution_count": 136,
   "metadata": {},
   "outputs": [
    {
     "name": "stdout",
     "output_type": "stream",
     "text": [
      "2\n",
      "1\n"
     ]
    }
   ],
   "source": [
    "print(2)\n",
    "print(1)"
   ]
  },
  {
   "cell_type": "markdown",
   "metadata": {},
   "source": [
    "## 9. Diccionarios\n",
    "\n",
    "Otro tipo de dato útil incluído en Python es el diccionario. Los diccionarios se encuentran a veces en otros lenguajes como \"memorias asociativas\" o \"arreglos asociativos\". A diferencia de las secuencias, que se indexan mediante un rango numérico, los diccionarios se indexan con claves, que pueden ser cualquier tipo inmutable; las cadenas y números siempre pueden ser claves.\n",
    "\n",
    "Las tuplas pueden usarse como claves si solamente contienen cadenas, números o tuplas; si una tupla contiene cualquier objeto mutable directa o indirectamente, no puede usarse como clave. No se pueden usar listas como claves, ya que las listas pueden modificarse.\n",
    "\n",
    "Lo mejor es pensar en un diccionario como un conjunto no ordenado de pares clave: valor, con el requisito de que las claves sean únicas (dentro de un diccionario en particular).\n",
    "\n",
    "Los diccionarios se pueden crear usando la función dict() o los símbolos {}."
   ]
  },
  {
   "cell_type": "markdown",
   "metadata": {},
   "source": [
    "### Definir un objeto tipo diccionario"
   ]
  },
  {
   "cell_type": "code",
   "execution_count": null,
   "metadata": {},
   "outputs": [],
   "source": [
    "x = dict()\n",
    "print(x, type(x), len(x))"
   ]
  },
  {
   "cell_type": "code",
   "execution_count": 137,
   "metadata": {},
   "outputs": [
    {
     "name": "stdout",
     "output_type": "stream",
     "text": [
      "{'Perú': 2, 'Brasil': 5, 'Colombia': 5, 'Argentina': 3, 'Uruguay': 5, 'Chile': 0} <class 'dict'>\n"
     ]
    }
   ],
   "source": [
    "# Crear un diccionario que contiene la cantidad de goles realizados por los países de Sudamérica en la fase de grupos \n",
    "# del Mundial de Rusia 2018\n",
    "\n",
    "goles={'Perú': 2, 'Brasil': 5, 'Colombia': 5, 'Argentina': 3, 'Uruguay': 5, 'Chile': 0}\n",
    "\n",
    "print(goles, type(goles))"
   ]
  },
  {
   "cell_type": "code",
   "execution_count": 138,
   "metadata": {},
   "outputs": [
    {
     "data": {
      "text/plain": [
       "['Perú', 'Brasil', 'Colombia', 'Argentina', 'Uruguay', 'Chile']"
      ]
     },
     "execution_count": 138,
     "metadata": {},
     "output_type": "execute_result"
    }
   ],
   "source": [
    "# Recuperar las claves de la variable goles\n",
    "\n",
    "paises = list(goles.keys())\n",
    "paises"
   ]
  },
  {
   "cell_type": "code",
   "execution_count": 139,
   "metadata": {},
   "outputs": [
    {
     "data": {
      "text/plain": [
       "'Perú'"
      ]
     },
     "execution_count": 139,
     "metadata": {},
     "output_type": "execute_result"
    }
   ],
   "source": [
    "paises[0]"
   ]
  },
  {
   "cell_type": "code",
   "execution_count": 140,
   "metadata": {},
   "outputs": [
    {
     "data": {
      "text/plain": [
       "[2, 5, 5, 3, 5, 0]"
      ]
     },
     "execution_count": 140,
     "metadata": {},
     "output_type": "execute_result"
    }
   ],
   "source": [
    "# Recuperar los valores de la variable goles\n",
    "\n",
    "list(goles.values())"
   ]
  },
  {
   "cell_type": "code",
   "execution_count": 141,
   "metadata": {},
   "outputs": [
    {
     "data": {
      "text/plain": [
       "2"
      ]
     },
     "execution_count": 141,
     "metadata": {},
     "output_type": "execute_result"
    }
   ],
   "source": [
    "# Recuperar la cantidad de goles de un país usando la clave\n",
    "\n",
    "goles['Perú']"
   ]
  },
  {
   "cell_type": "code",
   "execution_count": 142,
   "metadata": {},
   "outputs": [
    {
     "name": "stdout",
     "output_type": "stream",
     "text": [
      "{'Perú': 2, 'Brasil': 5, 'Colombia': 5, 'Argentina': 3, 'Uruguay': 5, 'Chile': 0, 'México': 3}\n"
     ]
    }
   ],
   "source": [
    "# Agregar un nuevo elemento al diccionario\n",
    "\n",
    "goles['México']=3\n",
    "print(goles)"
   ]
  },
  {
   "cell_type": "code",
   "execution_count": 144,
   "metadata": {},
   "outputs": [],
   "source": [
    "goles['prueba'] = [1, 2, 3]"
   ]
  },
  {
   "cell_type": "code",
   "execution_count": 145,
   "metadata": {},
   "outputs": [
    {
     "data": {
      "text/plain": [
       "{'Perú': 2,\n",
       " 'Brasil': 5,\n",
       " 'Colombia': 5,\n",
       " 'Argentina': 3,\n",
       " 'Uruguay': 5,\n",
       " 'Chile': 0,\n",
       " 'México': 3,\n",
       " 'prueba': [1, 2, 3]}"
      ]
     },
     "execution_count": 145,
     "metadata": {},
     "output_type": "execute_result"
    }
   ],
   "source": [
    "goles"
   ]
  },
  {
   "cell_type": "code",
   "execution_count": null,
   "metadata": {},
   "outputs": [],
   "source": [
    "# Imprimir cada una de las claves del diccionario\n",
    "\n",
    "for i in goles:\n",
    "    print(i)"
   ]
  },
  {
   "cell_type": "code",
   "execution_count": null,
   "metadata": {},
   "outputs": [],
   "source": [
    "# Imprimir cada par de clave y valor\n",
    "\n",
    "for key, value in goles.items():\n",
    "    print(key, \": \", value)"
   ]
  },
  {
   "cell_type": "markdown",
   "metadata": {},
   "source": [
    "## 10. Expresiones Regulares\n",
    "Las expresiones regulares se usan para identificar si un patrón existe en una secuencia dada de caracteres (cadena) o no. Ayudan a manipular datos textuales, que a menudo es un requisito previo para los proyectos de ciencia de datos que involucran la extracción de texto.\n",
    "En Python, las expresiones regulares son soportadas por el módulo re."
   ]
  },
  {
   "cell_type": "code",
   "execution_count": 30,
   "metadata": {},
   "outputs": [],
   "source": [
    "import re"
   ]
  },
  {
   "cell_type": "markdown",
   "metadata": {},
   "source": [
    "### Caracteres ordinarios:\n",
    "\n",
    "Los caracteres ordinarios son las expresiones regulares más simples. Se emparejan exactamente y no tienen un significado especial en su sintaxis de expresión regular. Los caracteres comunes se pueden usar para realizar coincidencias exactas simples:"
   ]
  },
  {
   "cell_type": "code",
   "execution_count": 31,
   "metadata": {},
   "outputs": [
    {
     "name": "stdout",
     "output_type": "stream",
     "text": [
      "\tpython\n",
      "\\tpython\n"
     ]
    }
   ],
   "source": [
    "print(\"\\tpython\")\n",
    "# r es para decir al print que no es una expresión regular\n",
    "print(r\"\\tpython\")"
   ]
  },
  {
   "cell_type": "code",
   "execution_count": 150,
   "metadata": {},
   "outputs": [
    {
     "name": "stdout",
     "output_type": "stream",
     "text": [
      "Machine\n",
      "Machine Learning\n",
      "Coincide!\n"
     ]
    }
   ],
   "source": [
    "pattern = r\"Machine\"\n",
    "sequence = \"Machine Learning\"\n",
    "print(pattern)\n",
    "print(sequence)\n",
    "if re.match(pattern, sequence):\n",
    "    print(\"Coincide!\")\n",
    "else:\n",
    "    print(\"No Coincide!\")"
   ]
  },
  {
   "cell_type": "markdown",
   "metadata": {},
   "source": [
    "La función match () devuelve un objeto coincidente si el texto coincide con el patrón. De lo contrario, devuelve `None`.\n",
    "\n",
    "Por otro lado, aquellas cadenas de caracteres que empiezan con la letra `r` son llamados `raw string` o `cadenas en crudo o sin procesar`. La diferencia con las cadenas es que por ejemplo caracteres especiales como el backslash `\\` podrán ser reconocidos como unos caracteres más y no como parte de una sequencia de escape."
   ]
  },
  {
   "cell_type": "code",
   "execution_count": 151,
   "metadata": {},
   "outputs": [
    {
     "name": "stdout",
     "output_type": "stream",
     "text": [
      "\\n\n",
      "\n",
      "\n",
      "\\t\n",
      "\t\n"
     ]
    }
   ],
   "source": [
    "# \\n es un salto de línea\n",
    "print(r\"\\n\")\n",
    "print(\"\\n\")\n",
    "\n",
    "# \\t es una tabulación\n",
    "print(r\"\\t\")\n",
    "print(\"\\t\")"
   ]
  },
  {
   "cell_type": "markdown",
   "metadata": {},
   "source": [
    "### Caracteres comodín o `wild card`:\n",
    "\n",
    "Los caracteres comodín son caracteres que no coinciden como se ven, sin embargo tienen un significado especial cuando se usan en una expresión regular.\n",
    "Los caracteres comodín más usados son:\n",
    "- `.`: Coincide con cualquier caracter, excepto el caracter de nueva línea.\n",
    "- `\\w`: Coincide con cualquier letra, dígito o guión bajo.\n",
    "- `\\W`: Coincide con cualquier caracter que no forme parte de `\\w`\n",
    "- `\\s`: Coincide con un solo caracter en blanco como: espacio, nueva línea, tab.\n",
    "- `\\S`: Coincide con cualquier caracter que no forme parte de \\s.\n",
    "- `\\t`: Coincide con tab.\n",
    "- `\\n`: Coincide con una nueva línea.\n",
    "- `\\r`: Coincide con un retorno.\n",
    "- `\\d`: Coincide con el dígito decimal 0-9.\n",
    "- `^`: Coincide con un patrón al comienzo de la cadena.\n",
    "- `$`: Coincide con un patrón al final de la cadena.\n",
    "- `[abc]`: Coincide con a, b o c.\n",
    "- `[a-zA-Z0-9]`: Coincide con cualquier caracter entre (a a z) o (A a Z) o (0 a 9).\n",
    "- `\\A`: Coincide solo al comienzo de la cadena. Funciona en múltiples líneas también.\n",
    "- `\\b`: Coincide solo con el principio o el final de la palabra.\n",
    "- `\\`: Si el caracter que sigue al backslash es un caracter de escape reconocido, entonces se toma el significado especial del término. Por ejemplo, \\n se considera como una nueva línea. Sin embargo, si el caracter que sigue a \\ no es un caracter de escape reconocido, entonces el \\ se trata como cualquier otro caracter.\n",
    "\n",
    "La función group () devuelve la cadena que coincide con el patrón. Veamos la aplicación de estos caracteres comodín:"
   ]
  },
  {
   "cell_type": "code",
   "execution_count": 152,
   "metadata": {},
   "outputs": [],
   "source": [
    "import re"
   ]
  },
  {
   "cell_type": "code",
   "execution_count": 156,
   "metadata": {},
   "outputs": [
    {
     "name": "stdout",
     "output_type": "stream",
     "text": [
      "Machine\n",
      "Mach\n",
      "Learning\n",
      "M@chin€\n",
      "Machine Learning\n",
      "Python\n",
      "Machine\tLearning\n",
      "Pyth0n\n",
      "Machine\n",
      "Machine Learning\n",
      "Python: 6 módulos\n",
      "Python: 5 módulos\n",
      "Cython\n",
      "Python\n",
      "Machine\\Learning\n",
      "Machine Learning\n"
     ]
    }
   ],
   "source": [
    "print(re.search(r'Mac.i.e', 'Machine Learning').group())\n",
    "print(re.search(r'Mac\\w', 'Machine Learning').group())\n",
    "print(re.search(r'Lea\\wn\\wng', 'MachineLearning').group())\n",
    "print(re.search(r'M\\Wchin\\W', 'M@chin€').group())\n",
    "print(re.search(r'Machine\\sLearning', 'Machine Learning').group())\n",
    "print(re.search(r'Pyth\\Sn', 'Python').group())\n",
    "print(re.search(r'Machine\\tLearning', 'Machine\tLearning').group())\n",
    "print(re.search(r'Pyth\\dn', 'Pyth0n').group())\n",
    "print(re.search(r'^Machine', 'Machine Learning con Python').group())\n",
    "print(re.search(r'Machine Learning$', 'Machine Learning').group())\n",
    "print(re.search(r'Python: [1-9] módulos', 'Python: 6 módulos').group())\n",
    "print(re.search(r'Python: [^6] módulos', 'Python: 5 módulos').group())\n",
    "print(re.search(r'\\A[A-Q]ython', 'Cython').group())\n",
    "print(re.search(r'\\b[A-Z]ython', 'Python Machine Learning').group())\n",
    "print(re.search(r'Machine\\\\Learning', 'Machine\\Learning').group())\n",
    "print(re.search(r'Machine\\sLearning', 'Machine Learning').group())"
   ]
  },
  {
   "cell_type": "markdown",
   "metadata": {},
   "source": [
    "### Repeticiones\n",
    "\n",
    "Se vuelve bastante tedioso si buscas encontrar patrones largos en una cadena de caracteres. Afortunadamente, el módulo `re` maneja las repeticiones usando los siguientes caracteres especiales:\n",
    "\n",
    "- `+`: Comprueba uno o más caracteres desde su izquierda.\n",
    "- `*`: Comprueba cero o más caracteres desde su izquierda.\n",
    "- `?`: Comprueba exactamente cero o un caracter a su izquierda.\n",
    "- `{x}`: Repite x veces.\n",
    "- `{x,}`: Repite como mínimo x veces\n",
    "- `{x, y}`: Repite como mínimo **x** veces y máximo **y** veces."
   ]
  },
  {
   "cell_type": "code",
   "execution_count": 47,
   "metadata": {},
   "outputs": [
    {
     "data": {
      "text/plain": [
       "'09876'"
      ]
     },
     "execution_count": 47,
     "metadata": {},
     "output_type": "execute_result"
    }
   ],
   "source": [
    "re.search(r'\\d{5,5}', '0987654321').group()"
   ]
  },
  {
   "cell_type": "code",
   "execution_count": 41,
   "metadata": {},
   "outputs": [
    {
     "data": {
      "text/plain": [
       "'098765'"
      ]
     },
     "execution_count": 41,
     "metadata": {},
     "output_type": "execute_result"
    }
   ],
   "source": [
    "re.search(r'\\d{2,6}', '0987654321').group()"
   ]
  },
  {
   "cell_type": "code",
   "execution_count": 44,
   "metadata": {},
   "outputs": [
    {
     "data": {
      "text/plain": [
       "'09'"
      ]
     },
     "execution_count": 44,
     "metadata": {},
     "output_type": "execute_result"
    }
   ],
   "source": [
    "re.search(r'\\d{0,2}', '0987654321').group()"
   ]
  },
  {
   "cell_type": "code",
   "execution_count": null,
   "metadata": {},
   "outputs": [],
   "source": [
    "re.search(r'\\d+', '0987654321 3 Machine Learning').group()"
   ]
  },
  {
   "cell_type": "code",
   "execution_count": null,
   "metadata": {},
   "outputs": [],
   "source": [
    "re.search(r'\\d*', 'aaaaa').group()"
   ]
  },
  {
   "cell_type": "code",
   "execution_count": null,
   "metadata": {},
   "outputs": [],
   "source": [
    "re.search(r'\\d?', 'aaaaa').group()"
   ]
  },
  {
   "cell_type": "markdown",
   "metadata": {},
   "source": [
    "### Groups and Grouping\n",
    "\n",
    "Imaginemos que queremos validar direcciones de correo electrónico y verificar el nombre de usuario y host por separado. Para ello podemos hacer uso de la función group, que nos permite coger partes del texto correspondiente."
   ]
  },
  {
   "cell_type": "code",
   "execution_count": null,
   "metadata": {},
   "outputs": [],
   "source": [
    "correo = \"Por favor contactar a: machinelearning@fullstack.com\"\n",
    "match = re.search(r'([\\w\\.-]+)@([\\w\\.-]+)', correo)\n",
    "if match:\n",
    "    print(match.group(0))\n",
    "    print(match.group(1))\n",
    "    print(match.group(2))"
   ]
  },
  {
   "cell_type": "markdown",
   "metadata": {},
   "source": [
    "En general, las principales funciones que la librería `re` nos proporciona son:\n",
    "- **search(pattern, string, flags=0)**: Con esta función, se escanea la cadena dada buscando la primera posición donde la expresión regular (o patrón) produce una coincidencia. Devuelve un objeto de coincidencia si se encuentra una coincidencia, de lo contrario devuelve None."
   ]
  },
  {
   "cell_type": "code",
   "execution_count": null,
   "metadata": {},
   "outputs": [],
   "source": [
    "pattern = r\"Machine\"\n",
    "sequence = \"Machine learning\"\n",
    "\n",
    "re.search(pattern, sequence).group()"
   ]
  },
  {
   "cell_type": "markdown",
   "metadata": {},
   "source": [
    "- **match(pattern, string, flags=0)**: Devuelve el objeto de coincidencia correspondiente si 0 o más caracteres al comienzo de la cadena coinciden con el patrón. De lo contrario, devuelve None."
   ]
  },
  {
   "cell_type": "code",
   "execution_count": null,
   "metadata": {},
   "outputs": [],
   "source": [
    "pattern = r\"L\"\n",
    "sequence1 = \"Machine Learning\"\n",
    "\n",
    "# No habrá match dado que \"L\" no está al inicio de 'Machine Learning'\n",
    "re.match(pattern, sequence1)"
   ]
  },
  {
   "cell_type": "markdown",
   "metadata": {},
   "source": [
    "<div class=\"alert alert-info\" role=\"alert\">\n",
    "  <strong>Nota:</strong> La función `match()` busca una coincidencia solo al comienzo de la cadena (por defecto) mientras que la función `search()` busca una coincidencia en cualquier lugar de la cadena.\n",
    "</div>"
   ]
  },
  {
   "cell_type": "markdown",
   "metadata": {},
   "source": [
    "- **findall(pattern, string, flags=0)**: Encuentra todas las coincidencias posibles en toda la cadena y las devuelve como una lista de cadenas. Cada cadena devuelta representa una coincidencia."
   ]
  },
  {
   "cell_type": "code",
   "execution_count": null,
   "metadata": {},
   "outputs": [],
   "source": [
    "mensaje = \"Por favor contactar a: machinelearning@fullstack.com, deeplearning@fullstack.com, datascience@fullstack.com, bigdata@fullstack.com\"\n",
    "\n",
    "#'correos' es una lista que contiene todas las posibles coincidencias\n",
    "correos = re.findall(r'[\\w\\.-]+@[\\w\\.-]+', mensaje)\n",
    "for correo in correos: \n",
    "    print(correo)"
   ]
  },
  {
   "cell_type": "markdown",
   "metadata": {},
   "source": [
    "- **sub(pattern, repl, string, count=0, flags=0)**: Esta es la función sustituta. Devuelve la cadena obtenida reemplazando o sustituyendo las apariciones no superpuestas más a la izquierda del patrón en cadena por la sustitución reemplazada. Si no se encuentra el patrón, la cadena se devuelve sin cambios."
   ]
  },
  {
   "cell_type": "code",
   "execution_count": null,
   "metadata": {},
   "outputs": [],
   "source": [
    "mensaje = \"Por favor contactar a: machinelearning@fullstack.com\"\n",
    "nuevo_mensaje = re.sub(r'([\\w\\.-]+)@([\\w\\.-]+)', r'deeplearning@fullstack.com', email_address)\n",
    "print(nuevo_mensaje)"
   ]
  },
  {
   "cell_type": "markdown",
   "metadata": {},
   "source": [
    "- **compile(pattern, flags=0)**: Compila un patrón de expresión regular en un objeto de expresión regular. Cuando necesite usar una expresión varias veces en un solo programa, usar la función compile () para guardar el objeto de expresión regular resultante para reutilizar es más eficiente. Esto se debe a que las versiones compiladas de los patrones más recientes pasados a compilar () y las funciones de concordancia a nivel de módulo están en caché."
   ]
  },
  {
   "cell_type": "code",
   "execution_count": null,
   "metadata": {
    "scrolled": true
   },
   "outputs": [],
   "source": [
    "pattern = re.compile(r'([\\w\\.-]+)@([\\w\\.-]+)')\n",
    "mensaje = \"Por favor contactar a: machinelearning@fullstack.com\"\n",
    "pattern.search(mensaje).group()"
   ]
  },
  {
   "cell_type": "code",
   "execution_count": null,
   "metadata": {},
   "outputs": [],
   "source": [
    "mensajes = [\"Contactarse con: machinelearning@fullstack.com\",\n",
    "            \"Comunicarse a: deeplearning@fullstack.com\",\n",
    "            \"Para más información con: datascientist@python.pe\",\n",
    "            \"reinforcement@learning.pe es mi correo\"]\n",
    "for mensaje in mensajes:\n",
    "    print(pattern.search(mensaje).group())"
   ]
  },
  {
   "cell_type": "code",
   "execution_count": null,
   "metadata": {},
   "outputs": [],
   "source": [
    "# Es lo mismo que: \n",
    "re.search(pattern, mensaje).group()"
   ]
  },
  {
   "cell_type": "markdown",
   "metadata": {},
   "source": [
    "# Ejercicios\n",
    "\n",
    "Realice los siguientes ejercicios. En caso de tener dudas, puede apoyarse con sus compañeros, preguntarle al profesor y hacer búsquedas en internet."
   ]
  },
  {
   "cell_type": "markdown",
   "metadata": {},
   "source": [
    "1. Cree una variable llamada **x** que contenga un número entero\n",
    "2. Cree una variable llamada **y** que contenga un número de punto flotante\n",
    "3. Cree una variable llamada **z** que contenga el nombre del tipo de dato que más le ha parecido interesante"
   ]
  },
  {
   "cell_type": "code",
   "execution_count": null,
   "metadata": {},
   "outputs": [],
   "source": []
  },
  {
   "cell_type": "markdown",
   "metadata": {},
   "source": [
    "4. Cree una variable llamada **a** que corresponda a la suma entre **x** e **y**\n",
    "5. Cree una variable llamada **b** que corresponda a la suma entre **x** y **z**. En caso de fallar, determine una manera viable para sumar ambos objetos.\n",
    "\n",
    "6. Cree una lista llamada **c** que contenga los objetos **x** y **y**.\n",
    "7. Agregue a la lista **c** los objetos **a** y **b**,"
   ]
  },
  {
   "cell_type": "code",
   "execution_count": null,
   "metadata": {},
   "outputs": [],
   "source": []
  },
  {
   "cell_type": "markdown",
   "metadata": {},
   "source": [
    "1. Cree un diccionario llamado **equipos** que contenga 4 claves con nombres de equipos que estuvieron en el mundial. El valor de cada clave debe corresponder al número de goles que hizo en la fase de grupos.\n",
    "2. Por cada equipo determine cuánto goles anotarán en el siguiente mundial si se estima que duplicarán su producción goleadora."
   ]
  },
  {
   "cell_type": "code",
   "execution_count": 118,
   "metadata": {},
   "outputs": [
    {
     "name": "stdout",
     "output_type": "stream",
     "text": [
      "{'peru': 4, 'mx': 10}\n"
     ]
    }
   ],
   "source": [
    "x = {}\n",
    "x[\"peru\"] = 2\n",
    "x[\"mx\"] = 5\n",
    "\n",
    "for i in x:\n",
    "    x[i]=x[i]*2\n",
    "print(x)\n",
    "\n",
    "#print(x[\"peru\"])\n",
    "#x[\"peru\"] = x[\"peru\"]*2\n",
    "#print(x)"
   ]
  },
  {
   "cell_type": "markdown",
   "metadata": {},
   "source": [
    "# II. Operaciones y funciones nativas\n",
    "Sobre todos los tipos de objetos de Python se pueden aplicar operaciones. El tipo de operaciones varia dependiendo de cada tipo."
   ]
  },
  {
   "cell_type": "markdown",
   "metadata": {},
   "source": [
    "## Operadores booleanos\n",
    "\n",
    "- x **or** y: Si x es falso, entonces devuelve y. Sino, devuelve x \\\\\n",
    "- x **and** y: Si x es falso, entonces devuelve x. Sino, devuelve y \\\\\n",
    "- **not** x: Si x es falso, entonces devuelve True. Sino, devuelve False"
   ]
  },
  {
   "cell_type": "code",
   "execution_count": null,
   "metadata": {},
   "outputs": [],
   "source": [
    "x=False\n",
    "y=True\n",
    "x or y"
   ]
  },
  {
   "cell_type": "code",
   "execution_count": null,
   "metadata": {},
   "outputs": [],
   "source": [
    "x=False\n",
    "y=True\n",
    "x and y"
   ]
  },
  {
   "cell_type": "code",
   "execution_count": null,
   "metadata": {},
   "outputs": [],
   "source": [
    "x=True\n",
    "y=True\n",
    "x and y"
   ]
  },
  {
   "cell_type": "code",
   "execution_count": null,
   "metadata": {},
   "outputs": [],
   "source": [
    "x=False\n",
    "not x"
   ]
  },
  {
   "cell_type": "markdown",
   "metadata": {},
   "source": [
    "## Operadores de comparación\n",
    "\n",
    "- < : Estrictamente menor que\n",
    "- <= : Menor o igual que\n",
    "- \\>\t: Estrictamente mayor que\n",
    "- \\>= :\tMayor o igual que\n",
    "- == : Igual\n",
    "- != : No es igual\n",
    "- is : Identidad del objeto\n",
    "- is not : Negación de la identidad del objeto"
   ]
  },
  {
   "cell_type": "code",
   "execution_count": null,
   "metadata": {},
   "outputs": [],
   "source": [
    "x = 4"
   ]
  },
  {
   "cell_type": "code",
   "execution_count": null,
   "metadata": {},
   "outputs": [],
   "source": [
    "x < 10"
   ]
  },
  {
   "cell_type": "code",
   "execution_count": null,
   "metadata": {},
   "outputs": [],
   "source": [
    "x == 10"
   ]
  },
  {
   "cell_type": "code",
   "execution_count": null,
   "metadata": {},
   "outputs": [],
   "source": [
    "x != 10"
   ]
  },
  {
   "cell_type": "code",
   "execution_count": null,
   "metadata": {},
   "outputs": [],
   "source": [
    "x is 4"
   ]
  },
  {
   "cell_type": "code",
   "execution_count": null,
   "metadata": {},
   "outputs": [],
   "source": [
    "isinstance(x,int)"
   ]
  },
  {
   "cell_type": "code",
   "execution_count": null,
   "metadata": {},
   "outputs": [],
   "source": [
    "x is not 4"
   ]
  },
  {
   "cell_type": "markdown",
   "metadata": {},
   "source": [
    "## Operadores para objetos del tipo numéricos\n",
    "\n",
    "- x + y: Suma de x e y\n",
    "- x - y: Diferencia de x e y\n",
    "- x * y: Multipliación de x e y\n",
    "- x / y: División de x e y\n",
    "- x // y: Numero entero inferior más próximo de división entre x e y\n",
    "- x % y: Módulo de x e y\n",
    "- -x: Negación del valor de x\n",
    "- +x: El valor de x no es alterado\n",
    "- x \\*\\* y: El valor de x a la potencia de y"
   ]
  },
  {
   "cell_type": "code",
   "execution_count": null,
   "metadata": {},
   "outputs": [],
   "source": [
    "s=[1,2,3,4] ; t=[5,6,7,8]"
   ]
  },
  {
   "cell_type": "code",
   "execution_count": null,
   "metadata": {},
   "outputs": [],
   "source": [
    "1 in s"
   ]
  },
  {
   "cell_type": "code",
   "execution_count": null,
   "metadata": {},
   "outputs": [],
   "source": [
    "5 in s"
   ]
  },
  {
   "cell_type": "code",
   "execution_count": null,
   "metadata": {},
   "outputs": [],
   "source": [
    "s+t"
   ]
  },
  {
   "cell_type": "code",
   "execution_count": null,
   "metadata": {},
   "outputs": [],
   "source": [
    "s*3"
   ]
  },
  {
   "cell_type": "code",
   "execution_count": null,
   "metadata": {},
   "outputs": [],
   "source": [
    "[e*3 if e < 3 else e*2 for e in s]"
   ]
  },
  {
   "cell_type": "code",
   "execution_count": null,
   "metadata": {},
   "outputs": [],
   "source": [
    "len(s)"
   ]
  },
  {
   "cell_type": "code",
   "execution_count": null,
   "metadata": {},
   "outputs": [],
   "source": [
    "min(s)"
   ]
  },
  {
   "cell_type": "code",
   "execution_count": null,
   "metadata": {},
   "outputs": [],
   "source": [
    "max(s)"
   ]
  },
  {
   "cell_type": "markdown",
   "metadata": {},
   "source": [
    "## Funciones nativas de Python\n",
    "\n",
    "Python 3.6 cuenta con 68 funciones incluidas por defecto. Estas funciones son muy variadas y facilitan el análisis numérico y la evaluación de expresiones. A continuación se listan alfabéticamente.\n",
    "\n",
    "<img src=\"images/python_builtin_functions.png\" width=800>"
   ]
  },
  {
   "cell_type": "code",
   "execution_count": 158,
   "metadata": {},
   "outputs": [
    {
     "name": "stdout",
     "output_type": "stream",
     "text": [
      "-4\n"
     ]
    }
   ],
   "source": [
    "x=-4\n",
    "print(x)"
   ]
  },
  {
   "cell_type": "code",
   "execution_count": null,
   "metadata": {},
   "outputs": [],
   "source": [
    "y=abs(x)\n",
    "print(y)"
   ]
  },
  {
   "cell_type": "code",
   "execution_count": null,
   "metadata": {},
   "outputs": [],
   "source": [
    "isinstance(x,int)"
   ]
  },
  {
   "cell_type": "code",
   "execution_count": null,
   "metadata": {},
   "outputs": [],
   "source": [
    "isinstance(x,float)"
   ]
  },
  {
   "cell_type": "code",
   "execution_count": 160,
   "metadata": {},
   "outputs": [
    {
     "name": "stdout",
     "output_type": "stream",
     "text": [
      "4.654321\n"
     ]
    }
   ],
   "source": [
    "x=4.654321\n",
    "print(x)"
   ]
  },
  {
   "cell_type": "code",
   "execution_count": 161,
   "metadata": {},
   "outputs": [
    {
     "data": {
      "text/plain": [
       "5"
      ]
     },
     "execution_count": 161,
     "metadata": {},
     "output_type": "execute_result"
    }
   ],
   "source": [
    "round(x)"
   ]
  },
  {
   "cell_type": "code",
   "execution_count": 162,
   "metadata": {},
   "outputs": [
    {
     "data": {
      "text/plain": [
       "4.65"
      ]
     },
     "execution_count": 162,
     "metadata": {},
     "output_type": "execute_result"
    }
   ],
   "source": [
    "round(x,2)"
   ]
  },
  {
   "cell_type": "markdown",
   "metadata": {},
   "source": [
    "# Ejercicios\n",
    "\n",
    "Realice los siguientes ejercicios. En caso de tener dudas, puede apoyarse con sus compañeros, preguntarle al profesor y hacer búsquedas en internet.\n"
   ]
  },
  {
   "cell_type": "markdown",
   "metadata": {},
   "source": [
    "1. Cree una variable llamada **x** que contenga el valor 3.141592 y una variable **y** que contenga el valor 4\n",
    "2. Evalue si **x** es menor que **y**\n",
    "3. Cree una variable llama **z** que contenga el valor de **x** a la potencia de **y**"
   ]
  },
  {
   "cell_type": "code",
   "execution_count": null,
   "metadata": {},
   "outputs": [],
   "source": []
  },
  {
   "cell_type": "markdown",
   "metadata": {},
   "source": [
    "4. Cree una lista llamada **a** que contenga 30 veces repetido el valor de la variable **x**.\n",
    "5. Cree un rango llamado **b** que parta desde el valor 0 y llegue hasta el 30.\n",
    "6. Transforme la varible **b** en una tipo lista y almacene el resultado en la variable **c**\n",
    "7. Cree una lista llamada **d** la cual corresponda a la suma elemento a elemento entre las listas **a** y **c** (element wise sum)"
   ]
  },
  {
   "cell_type": "code",
   "execution_count": null,
   "metadata": {},
   "outputs": [],
   "source": []
  },
  {
   "cell_type": "markdown",
   "metadata": {},
   "source": [
    "# III. Uso de sentencias de control de flujo"
   ]
  },
  {
   "cell_type": "markdown",
   "metadata": {},
   "source": [
    "Python soporta las sentencias de control de flujo que podemos encontrar en otros lenguajes de programación tales como C, R y Java.\n",
    "\n",
    "Las sentencias presentes en Python 3.6 son\n",
    "\n",
    "- If\n",
    "- Else\n",
    "\n",
    "- While\n",
    "- For\n",
    "- Break\n",
    "- Continue\n",
    "- Pass\n",
    "\n",
    "- Try\n",
    "- With\n"
   ]
  },
  {
   "cell_type": "markdown",
   "metadata": {},
   "source": [
    "## 1. If\n",
    "\n",
    "La sentencia if es quizás la más conocida. Esta sentencua se usa para ejecución condicional de código.\n",
    "\n",
    "Puede haber cero o más bloques elif, y el bloque else es opcional. La palabra reservada ‘elif‘ es una abreviación de ‘else if’, y es útil para evitar un sangrado excesivo.\n",
    "\n",
    "Una secuencia if ... elif ... elif ... sustituye las sentencias switch o case encontradas en otros lenguajes."
   ]
  },
  {
   "cell_type": "code",
   "execution_count": 163,
   "metadata": {},
   "outputs": [
    {
     "name": "stdout",
     "output_type": "stream",
     "text": [
      "Negativo cambiado a cero\n",
      "Valor:  0\n"
     ]
    }
   ],
   "source": [
    "x=-30\n",
    "\n",
    "if x < 0:\n",
    "    x = 0\n",
    "    print('Negativo cambiado a cero')\n",
    "elif x == 0:\n",
    "    print('Cero')\n",
    "elif x == 1:\n",
    "    print('Igual a uno')\n",
    "else:\n",
    "    print('Mayor a uno')\n",
    "    \n",
    "print(\"Valor: \", x)"
   ]
  },
  {
   "cell_type": "markdown",
   "metadata": {},
   "source": [
    "## 2. While\n",
    "\n",
    "La sentencia while es usada para repetir la ejecución de un código mientras la condición sea verdadera.\n",
    "\n",
    "El primer bloque corresponde al código que se ejecuta mientras la condición sea verdadera. Se puede crear un segundo bloque opcional con la sentencia else, la cual permite ejecutar ese bloque antes de terminar la ejecución del bucle while.\n",
    "\n",
    "Se pueden usar las sentencias **break** y **continue** en el primer bloque."
   ]
  },
  {
   "cell_type": "code",
   "execution_count": 164,
   "metadata": {},
   "outputs": [],
   "source": [
    "a=0;b=1"
   ]
  },
  {
   "cell_type": "code",
   "execution_count": 168,
   "metadata": {},
   "outputs": [
    {
     "name": "stdout",
     "output_type": "stream",
     "text": [
      "1,1,2,3,5,8,13,21,34,55,89,144,233,377,610,987,"
     ]
    }
   ],
   "source": [
    "a, b = 0, 1\n",
    "while b < 1000:\n",
    "    print(b, end=',')\n",
    "#    print(b)\n",
    "    a, b = b, a+b"
   ]
  },
  {
   "cell_type": "code",
   "execution_count": 166,
   "metadata": {},
   "outputs": [
    {
     "name": "stdout",
     "output_type": "stream",
     "text": [
      "1,1,2,3,5,8,13,21,34,55,89,144,233,377,610,987,\n",
      "El valor de b es mayor que 1000\n"
     ]
    }
   ],
   "source": [
    "a, b = 0, 1\n",
    "while b < 1000:\n",
    "    print(b, end=',')\n",
    "    a, b = b, a+b\n",
    "else:\n",
    "    print(\"\\nEl valor de b es mayor que 1000\")"
   ]
  },
  {
   "cell_type": "code",
   "execution_count": null,
   "metadata": {},
   "outputs": [],
   "source": [
    "a, b = 0, 1\n",
    "while b < 1000:\n",
    "    print(b, end=',')\n",
    "    a, b = b, a+b\n",
    "    break"
   ]
  },
  {
   "cell_type": "markdown",
   "metadata": {},
   "source": [
    "## 3. For\n",
    "\n",
    "La sentencia for se usa para iterar sobre los elementos que pertenecen a una secuencia del tipo string, tupla, lista o cualquier otro objeto iterable.\n",
    "\n",
    "La sentencia for en Python difiere un poco de lo que uno puede estar acostumbrado en lenguajes como C o Pascal. En lugar de siempre iterar sobre una progresión aritmética de números (como en Pascal) o darle al usuario la posibilidad de definir tanto el paso de la iteración como la condición de fin (como en C), la sentencia for de Python itera sobre los ítems de cualquier secuencia (una lista o una cadena de texto), en el orden que aparecen en la secuencia."
   ]
  },
  {
   "cell_type": "code",
   "execution_count": 120,
   "metadata": {},
   "outputs": [
    {
     "name": "stdout",
     "output_type": "stream",
     "text": [
      "Machine 7\n",
      "Learning 8\n",
      "Data Science 12\n"
     ]
    }
   ],
   "source": [
    "palabras = ['Machine', 'Learning', 'Data Science']\n",
    "for p in palabras:\n",
    "    print(p, len(p))"
   ]
  },
  {
   "cell_type": "code",
   "execution_count": 121,
   "metadata": {},
   "outputs": [
    {
     "name": "stdout",
     "output_type": "stream",
     "text": [
      "Machine\n",
      "Learning\n",
      "Data Science\n"
     ]
    }
   ],
   "source": [
    "for i in range(len(palabras)):\n",
    "    print(palabras[i])"
   ]
  },
  {
   "cell_type": "markdown",
   "metadata": {},
   "source": [
    "## 4. Try\n",
    "\n",
    "La sentencia try se usa para el manejo de excepciones y/o la limpieza de código para un grupo de expresiones.\n",
    "\n",
    "Es posible escribir programas que manejen determinadas excepciones. En el siguiente ejemplo se le pide al usuario una entrada hasta que ingrese un entero válido, pero permite al usuario interrumpir el programa (usando Control-C o lo que sea que el sistema operativo soporte).\n",
    "\n",
    "Notar que una interrupción generada por el usuario se señaliza generando la excepción KeyboardInterrupt."
   ]
  },
  {
   "cell_type": "code",
   "execution_count": null,
   "metadata": {},
   "outputs": [],
   "source": [
    "while True:\n",
    "    try:\n",
    "        x = int(input(\"Por favor ingrese un número: \"))\n",
    "        break\n",
    "    except ValueError:\n",
    "        print(\"Oops! No era válido. Intente nuevamente...\")"
   ]
  },
  {
   "cell_type": "markdown",
   "metadata": {},
   "source": [
    "La declaración try funciona de la siguiente manera:\n",
    "\n",
    "- Primero, se ejecuta el bloque try (el código entre las declaración try y except).\n",
    "- Si no ocurre ninguna excepción, el bloque except se salta y termina la ejecución de la declaración try.\n",
    "- Si ocurre una excepción durante la ejecución del bloque try, el resto del bloque se salta. Luego, si su tipo coincide con la excepción nombrada luego de la palabra reservada except, se ejecuta el bloque except, y la ejecución continúa luego de la declaración try.\n",
    "- Si ocurre una excepción que no coincide con la excepción nombrada en el except, esta se pasa a declaraciones try de más afuera; si no se encuentra nada que la maneje, es una excepción no manejada, y la ejecución se frena con un mensaje como los mostrados arriba.\n",
    "\n",
    "Una declaración try puede tener más de un except, para especificar manejadores para distintas excepciones. A lo sumo un manejador será ejecutado.\n",
    "\n",
    "Sólo se manejan excepciones que ocurren en el correspondiente try, no en otros manejadores del mismo try. Un except puede nombrar múltiples excepciones usando paréntesis, por ejemplo:"
   ]
  },
  {
   "cell_type": "code",
   "execution_count": null,
   "metadata": {},
   "outputs": [],
   "source": [
    "while True:\n",
    "    try:\n",
    "        x = int(input(\"Por favor ingrese un número: \"))\n",
    "        break\n",
    "    except (ValueError, RuntimeError, TypeError, NameError):\n",
    "        print(\"Oops! No era válido. Intente nuevamente...\")"
   ]
  },
  {
   "cell_type": "code",
   "execution_count": 174,
   "metadata": {},
   "outputs": [
    {
     "name": "stdout",
     "output_type": "stream",
     "text": [
      "Archivo abierto de manera correcta  data/file_01.txt\n",
      "El archivo tiene  0 lineas\n"
     ]
    }
   ],
   "source": [
    "try:\n",
    "    file='data/file_01.txt'\n",
    "    f = open(file)\n",
    "except OSError:\n",
    "    print(\"No se pudo abrir el archivo \", file)\n",
    "else:\n",
    "    print(\"Archivo abierto de manera correcta \", file)\n",
    "    print(\"El archivo tiene \", len(f.readlines()), 'lineas')\n",
    "    f.close()"
   ]
  },
  {
   "cell_type": "markdown",
   "metadata": {},
   "source": [
    "# IV. Definición de funciones y clases\n"
   ]
  },
  {
   "cell_type": "markdown",
   "metadata": {},
   "source": [
    "# 1. Definición de funciones\n",
    "\n",
    "La palabra reservada **def** se usa para definir funciones. Debe seguirle el nombre de la función y la lista de parámetros formales entre paréntesis. Las sentencias que forman el cuerpo de la función empiezan en la línea siguiente, y deben estar con sangría.\n",
    "\n",
    "La primer sentencia del cuerpo de la función puede ser opcionalmente una cadena de texto literal; esta es la cadena de texto de documentación de la función, o docstring. (Podés encontrar más acerca de docstrings en la sección Cadenas de texto de documentación.)"
   ]
  },
  {
   "cell_type": "code",
   "execution_count": 176,
   "metadata": {},
   "outputs": [],
   "source": [
    "def suma(x, y=4):\n",
    "    return x + y"
   ]
  },
  {
   "cell_type": "code",
   "execution_count": 177,
   "metadata": {},
   "outputs": [
    {
     "data": {
      "text/plain": [
       "7"
      ]
     },
     "execution_count": 177,
     "metadata": {},
     "output_type": "execute_result"
    }
   ],
   "source": [
    "# Llamamos a la función suma con un solo parámetro\n",
    "\n",
    "suma(3)"
   ]
  },
  {
   "cell_type": "code",
   "execution_count": 178,
   "metadata": {},
   "outputs": [
    {
     "data": {
      "text/plain": [
       "12"
      ]
     },
     "execution_count": 178,
     "metadata": {},
     "output_type": "execute_result"
    }
   ],
   "source": [
    "# Llamamos a la función suma usando los dos parámetros\n",
    "\n",
    "suma(2,10)"
   ]
  },
  {
   "cell_type": "markdown",
   "metadata": {},
   "source": [
    "Otra forma de escribir funciones, aunque menos utilizada, es con la palabra clave lambda. Las funciones Lambda pueden ser usadas en cualquier lugar donde sea requerido un objeto de tipo función. Están sintácticamente restringidas a una sola expresión."
   ]
  },
  {
   "cell_type": "code",
   "execution_count": null,
   "metadata": {},
   "outputs": [],
   "source": [
    "suma = lambda x, y = 2: x + y"
   ]
  },
  {
   "cell_type": "code",
   "execution_count": null,
   "metadata": {},
   "outputs": [],
   "source": [
    "suma(4)"
   ]
  },
  {
   "cell_type": "code",
   "execution_count": null,
   "metadata": {},
   "outputs": [],
   "source": [
    "suma(4,10)"
   ]
  },
  {
   "cell_type": "markdown",
   "metadata": {},
   "source": [
    "## 2. Definición de clases\n",
    "\n",
    "En el contexto de la programación orientada a objetos se habla de objetos, clases, métodos y atributos. En una clase un \"método\" equivale a una \"función\", y un \"atributo\" equivale a una \"variable\".\n",
    "\n",
    "Las clases proveen una forma de empaquetar datos y funcionalidad juntos. Al crear una nueva clase, se crea un nuevo tipo de objeto, permitiendo crear nuevas instancias de ese tipo. Cada instancia de clase puede tener atributos adjuntos para mantener su estado. Las instancias de clase también pueden tener métodos (definidos por su clase) para modificar su estado.\n",
    "\n",
    "Las clases de Python proveen todas las características normales de la Programación Orientada a Objetos:\n",
    "\n",
    "- El mecanismo de la herencia de clases permite múltiples clases base\n",
    "- Una clase derivada puede sobre escribir cualquier método de su(s) clase(s) base\n",
    "- Un método puede llamar al método de la clase base con el mismo nombre\n",
    "\n",
    "Los objetos pueden tener una cantidad arbitraria de datos de cualquier tipo. Igual que con los módulos, las clases participan de la naturaleza dinámica de Python: se crean en tiempo de ejecución, y pueden modificarse luego de la creación."
   ]
  },
  {
   "cell_type": "markdown",
   "metadata": {},
   "source": [
    "### Sintáxis en la definición de clases\n",
    "\n",
    "La forma más sencilla de definición de una clase se ve así\n",
    "\n",
    "```\n",
    "class Clase:\n",
    "    <declaración-1>\n",
    "    .\n",
    "    .\n",
    "    .\n",
    "    <declaración-N>\n",
    "```\n",
    "\n",
    "Las definiciones de clases, al igual que las definiciones de funciones (instrucciones def) deben ejecutarse antes de que tengan efecto alguno. Es concebible poner una definición de clase dentro de una rama de un if, o dentro de una función.\n",
    "\n",
    "Cuando una definición de clase se finaliza normalmente se crea un objeto clase. Básicamente, este objeto envuelve los contenidos del espacio de nombres creado por la definición de la clase"
   ]
  },
  {
   "cell_type": "markdown",
   "metadata": {},
   "source": [
    "### Objeto clase\n",
    "\n",
    "Los objetos clase soportan dos tipos de operaciones: hacer referencia a atributos e instanciación.\n",
    "\n",
    "#### Referencia a atributos\n",
    "\n",
    "Para hacer referencia a atributos se usa la sintaxis estándar de todas las referencias a atributos en Python: objeto.nombre.\n",
    "\n",
    "Los nombres de atributo válidos son todos los nombres que estaban en el espacio de nombres de la clase cuando ésta se creó. Por lo tanto, si la definición de la clase es así"
   ]
  },
  {
   "cell_type": "code",
   "execution_count": 179,
   "metadata": {},
   "outputs": [],
   "source": [
    "class MiClase:\n",
    "    \"\"\"Simple clase de\n",
    "    ejemplo\"\"\"\n",
    "    i = 12345\n",
    "    def f(self):\n",
    "        return 'Hola mundo'"
   ]
  },
  {
   "cell_type": "markdown",
   "metadata": {},
   "source": [
    "entonces MiClase.i y MiClase.f son referencias de atributos válidas, que devuelven un entero y un objeto función respectivamente.\n",
    "\n",
    "Los atributos de clase también pueden ser asignados, o sea que se pueden cambiar el valor de MiClase.i mediante asignación."
   ]
  },
  {
   "cell_type": "markdown",
   "metadata": {},
   "source": [
    "#### Instantación de clases\n",
    "\n",
    "La instanciación de clases usa la notación de funciones. Suponga que el objeto de clase es una función sin parámetros que devuelve una nueva instancia de la clase. Por ejemplo,"
   ]
  },
  {
   "cell_type": "code",
   "execution_count": 180,
   "metadata": {},
   "outputs": [],
   "source": [
    "x=MiClase()"
   ]
  },
  {
   "cell_type": "markdown",
   "metadata": {},
   "source": [
    "crea una nueva instancia de la clase y asigna este objeto a la variable local x.\n",
    "\n",
    "Podemos ejecutar el método f() del objeto x."
   ]
  },
  {
   "cell_type": "code",
   "execution_count": 181,
   "metadata": {},
   "outputs": [
    {
     "data": {
      "text/plain": [
       "'Hola mundo'"
      ]
     },
     "execution_count": 181,
     "metadata": {},
     "output_type": "execute_result"
    }
   ],
   "source": [
    "x.f()"
   ]
  },
  {
   "cell_type": "markdown",
   "metadata": {},
   "source": [
    "Cuando una clase define un método __init__(), la instanciación de la clase automáticamente invoca a __init__() para la instancia recién creada."
   ]
  },
  {
   "cell_type": "code",
   "execution_count": 182,
   "metadata": {},
   "outputs": [],
   "source": [
    "class Complejo:\n",
    "    def __init__(self, partereal, parteimaginaria):\n",
    "        self.r = partereal\n",
    "        self.i = parteimaginaria"
   ]
  },
  {
   "cell_type": "code",
   "execution_count": 183,
   "metadata": {},
   "outputs": [
    {
     "data": {
      "text/plain": [
       "(3.0, -4.5)"
      ]
     },
     "execution_count": 183,
     "metadata": {},
     "output_type": "execute_result"
    }
   ],
   "source": [
    "x = Complejo(3.0, -4.5)\n",
    "x.r, x.i"
   ]
  },
  {
   "cell_type": "markdown",
   "metadata": {},
   "source": [
    "### Variables de clase y de instancia\n",
    "\n",
    "En general, las variables de instancia son para datos únicos de cada instancia y las variables de clase son para atributos y métodos compartidos por todas las instancias de la clase:"
   ]
  },
  {
   "cell_type": "code",
   "execution_count": 184,
   "metadata": {},
   "outputs": [],
   "source": [
    "class Perro:\n",
    "\n",
    "    tipo = 'canino'                 # variable de clase compartida por todas las instancias\n",
    "\n",
    "    def __init__(self, nombre):\n",
    "        self.nombre = nombre        # variable de instancia única para la instancia"
   ]
  },
  {
   "cell_type": "code",
   "execution_count": 185,
   "metadata": {},
   "outputs": [],
   "source": [
    "d = Perro('Fido')\n",
    "e = Perro('Buddy')"
   ]
  },
  {
   "cell_type": "code",
   "execution_count": 186,
   "metadata": {},
   "outputs": [
    {
     "name": "stdout",
     "output_type": "stream",
     "text": [
      "canino\n",
      "canino\n"
     ]
    }
   ],
   "source": [
    "# Variable compartida por todos los perros\n",
    "\n",
    "print(d.tipo)\n",
    "print(e.tipo)"
   ]
  },
  {
   "cell_type": "code",
   "execution_count": 187,
   "metadata": {},
   "outputs": [
    {
     "name": "stdout",
     "output_type": "stream",
     "text": [
      "Fido\n",
      "Buddy\n"
     ]
    }
   ],
   "source": [
    "# Única para cada objeto\n",
    "\n",
    "print(d.nombre)\n",
    "print(e.nombre)"
   ]
  },
  {
   "cell_type": "markdown",
   "metadata": {},
   "source": [
    "# Ejercicios\n",
    "\n",
    "Realice los siguientes ejercicios. En caso de tener dudas, puede apoyarse con sus compañeros, preguntarle al profesor y hacer búsquedas en internet.\n"
   ]
  },
  {
   "cell_type": "markdown",
   "metadata": {},
   "source": [
    "1. Cree una función llamada **resta** la cual permita restar dos valores que son ingresados como parámetros. El primer parámetro se llama x y es obligatorio, mientras que el segundo es opcional y por defecto tiene un valor igual a 0\n",
    "2. Evalue la función resta de dos maneras: usando solo un parámetro y luego usando ambos parámetros de la función"
   ]
  },
  {
   "cell_type": "code",
   "execution_count": null,
   "metadata": {},
   "outputs": [],
   "source": []
  },
  {
   "cell_type": "markdown",
   "metadata": {},
   "source": [
    "1. Cree una clase llamada **Gato**, la cual debe cotener una variable llamada tipo y cuyo valor sea 'felino'. La clase debe permitir ser instanciada con dos valores, el primero que corresponda al nombre del gato y el segundo al color del pelo.\n",
    "2. Cree dos objetos del tipo Gato. El primer objeto se llamara gato1, el nombre del gato es \"Garfield\" y el color de pelo es \"naranjo\". El seguno objeto se llama gato2, el nombre del gato es \"Silvestre\" y el color del pelo es \"gris\"."
   ]
  },
  {
   "cell_type": "code",
   "execution_count": null,
   "metadata": {},
   "outputs": [],
   "source": []
  }
 ],
 "metadata": {
  "kernelspec": {
   "display_name": "Python 3",
   "language": "python",
   "name": "python3"
  },
  "language_info": {
   "codemirror_mode": {
    "name": "ipython",
    "version": 3
   },
   "file_extension": ".py",
   "mimetype": "text/x-python",
   "name": "python",
   "nbconvert_exporter": "python",
   "pygments_lexer": "ipython3",
   "version": "3.7.3"
  }
 },
 "nbformat": 4,
 "nbformat_minor": 1
}
