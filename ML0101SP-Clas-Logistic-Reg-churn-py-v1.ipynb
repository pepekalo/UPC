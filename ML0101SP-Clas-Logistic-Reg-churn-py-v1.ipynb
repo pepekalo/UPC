{
 "cells": [
  {
   "cell_type": "markdown",
   "metadata": {
    "button": false,
    "new_sheet": false,
    "run_control": {
     "read_only": false
    }
   },
   "source": [
    "<a href=\"https://www.bigdatauniversity.com\"><img src = \"https://ibm.box.com/shared/static/cw2c7r3o20w9zn8gkecaeyjhgw3xdgbj.png\" width = 400, align = \"center\"></a>\n",
    "\n",
    "<h1 align=center><font size = 5>Regresión logística con Python</font></h1>"
   ]
  },
  {
   "cell_type": "markdown",
   "metadata": {
    "button": false,
    "new_sheet": false,
    "run_control": {
     "read_only": false
    }
   },
   "source": [
    "En este cuaderno aprenderá sobre regresión logística y luego creará un modelo para una empresa de telecomunicaciones, cuya finalidad será predecir casos en los que los clientes vayan a pasarse a una empresa competidora, de manera tal que puedan tomar medidas para retener a los clientes..\n",
    "\n",
    "\n",
    "<a id=\"ref1\"></a>\n",
    "## ¿En qué se diferencian la regresión lineal y la logística?\n",
    "\n",
    "Si bien la regresión lineal es adecuada para estimar valores continuos (p. ej., el precio de una casa), no es la mejor herramienta para predecir la clase a la que pertenece un dato observado. Para estimar la clase de un dato, necesitamos algún tipo de orientación en cuanto a cuál sería **la clase más probable [most probable class]** Para eso, usamos la **Regresión Logística [Logistic Regression]**.\n",
    "\n",
    "<div class=\"alert alert-success alertsuccess\" style=\"margin-top: 20px\">\n",
    "<font size = 3><strong>Para recordar sobre la regresión lineal:</strong></font>\n",
    "<br>\n",
    "<br>\n",
    "Como sabrá, __la regresión lineal__ halla una función que relaciona una variable dependiente continua, __y__, con algunos predictores (variables independientes __x1__, __x2__, etc.). Por ejemplo, la regresión lineal simple supone una función con la siguiente forma:\n",
    "<br><br>\n",
    "$$\n",
    "y = 𝜃0 + 𝜃1 * x1 + 𝜃2 * x2 +...\n",
    "$$\n",
    "<br>\n",
    "y halla los valores de los parámetros _θ0_, _θ1_, _𝜃2_, etc., donde el término _𝜃0_ es la “ordenada al origen” [intercept]. Por lo general se puede representar así: \n",
    "<br><br>\n",
    "$$\n",
    "ℎ_θ(𝑥) = 𝜃^TX\n",
    "$$\n",
    "<p></p>\n",
    "\n",
    "</div>\n",
    "\n",
    "La regresión logística es una variación de la regresión lineal, y es útil cuando la variable dependiente observada, _y_, es categórica. Produce una fórmula que predice la probabilidad de la etiqueta de la clase como función de las variables independientes.\n",
    "\n",
    "La regresión logística ajusta a una curva especial con forma de “s”. Para ello, toma la regresión lineal y transforma la estimación numérica en una probabilidad con la siguiente función, que se denomina función sigmoidea 𝜎:\n",
    "\n",
    "$$\n",
    "ℎ_θ(𝑥) = 𝜎({θ^TX}) =  \\frac {e^{(θ0 + θ1 * x1 + θ2 * x2 +...)}}{1 + e^{(θ0 + θ1 * x1 + θ2 * x2 +...)}}\n",
    "$$\n",
    "O bien:\n",
    "$$\n",
    "ProbabilityOfaClass_1 =  P(Y=1|X) = 𝜎({θ^TX}) = \\frac{e^{θ^TX}}{1+e^{θ^TX}} \n",
    "$$\n",
    "\n",
    "En esta ecuación, ${θ^TX}$ es el resultado de la regresión (la suma de las variables ponderadas por los coeficientes), `exp` es la función exponencial y $𝜎(θ^TX)$ es la función sigmoidea o [función logística](http://en.wikipedia.org/wiki/Logistic_function), también llamada curva logística. Es una figura con forma de “S” común (curva sigmoidea).\n",
    "\n",
    "En resumen, la regresión logística transforma los datos de entrada por medio de una función logística o sigmoidea, pero luego trata el resultado como una probabilidad:\n",
    "\n",
    "<img\n",
    "src=\"https://ibm.box.com/shared/static/kgv9alcghmjcv97op4d6onkyxevk23b1.png\" width = \"400\" align = \"center\">\n",
    "\n",
    "\n",
    "El objetivo del algoritmo de __regrusión logística [Logistic Regression]__ es hallar los parámetros óptimos θ para ℎ_θ(𝑥) = 𝜎({θ^TX}), de manera tal que el modelo realice la mejor predicción en cuanto a la clase a la que pertenece cada caso."
   ]
  },
  {
   "cell_type": "markdown",
   "metadata": {},
   "source": [
    "### Pérdida de clientes con regresión logística\n",
    "Una empresa de telecomunicaciones está preocupada por la cantidad de clientes que cancelan sus servicios de línea fija y contratan a empresas competidoras que ofrecen servicio por cable. Necesita saber qué clientes la abandonarán por un competidor. Imagínese que usted es un analista que trabaja en esta empresa y tiene que averiguar quiénes cancelan el servicio y por qué."
   ]
  },
  {
   "cell_type": "markdown",
   "metadata": {
    "button": false,
    "new_sheet": false,
    "run_control": {
     "read_only": false
    }
   },
   "source": [
    "Primero importemos las bibliotecas necesarias:"
   ]
  },
  {
   "cell_type": "code",
   "execution_count": null,
   "metadata": {
    "button": false,
    "new_sheet": false,
    "run_control": {
     "read_only": false
    }
   },
   "outputs": [],
   "source": [
    "import pandas as pd\n",
    "import pylab as pl\n",
    "import numpy as np\n",
    "import scipy.optimize as opt\n",
    "from sklearn import preprocessing\n",
    "%matplotlib inline \n",
    "import matplotlib.pyplot as plt"
   ]
  },
  {
   "cell_type": "markdown",
   "metadata": {
    "button": false,
    "new_sheet": false,
    "run_control": {
     "read_only": false
    }
   },
   "source": [
    "### Acerca del conjunto de datos\n",
    "Utilizaremos un conjunto de datos de telecomunicaciones para predecir la pérdida de clientes. Se trata de datos históricos de clientes y cada fila representa a un cliente. Los datos son relativamente fáciles de entender, y es posible que obtenga conocimientos que pueda usar de inmediato. Por lo general, es menos costoso mantener clientes que captar nuevos, por lo que este análisis se enfocará en predecir quiénes continuarán siendo clientes de la empresa.\n",
    "\n",
    "Este conjunto de datos proporciona información que ayuda a predecir el comportamiento para retener clientes. Puede analizar todos los datos pertinentes sobre los clientes y desarrollar programas centrados en retenerlos.\n",
    "\n",
    "El conjunto de datos incluye información sobre lo siguiente:\n",
    "- Clientes perdidos en el último mes. La columna se llama Perdidos [Churn].\n",
    "- Servicios contratados por cada cliente (teléfono, varias líneas, internet, seguridad en línea, copias de seguridad en línea, protección de dispositivos, servicio técnico y televisión y películas por internet).\n",
    "- Información de cuentas de clientes (cuánto tiempo hace que son clientes, contrato, método de pago, factura electrónica, cargos mensuales y cargos totales).\n",
    "- Información demográfica sobre los clientes (sexo, rango de edad y si tienen pareja o personas a su cargo).\n"
   ]
  },
  {
   "cell_type": "markdown",
   "metadata": {
    "button": false,
    "new_sheet": false,
    "run_control": {
     "read_only": false
    }
   },
   "source": [
    "###  Carga de datos de Telco Churn\n",
    "Telco Churn es un archivo de datos hipotéticos sobre los esfuerzos de una empresa de telecomunicaciones por reducir la pérdida de clientes. Cada caso corresponde a un cliente aparte y registra diversos datos demográficos y de uso de servicios. Antes de poder trabajar con los datos, debe usar el URL para obtener el archivo ChurnData.csv.\n",
    "\n",
    "Usaremos `!wget` para descargar los datos de IBM Object Storage.\n"
   ]
  },
  {
   "cell_type": "code",
   "execution_count": null,
   "metadata": {
    "button": false,
    "new_sheet": false,
    "run_control": {
     "read_only": false
    }
   },
   "outputs": [],
   "source": [
    "#Click here and press Shift+Enter\n",
    "!wget -O ChurnData.csv https://s3-api.us-geo.objectstorage.softlayer.net/cf-courses-data/CognitiveClass/ML0101ENv3/labs/ChurnData.csv"
   ]
  },
  {
   "cell_type": "markdown",
   "metadata": {},
   "source": [
    "__¿Sabía usted?__ Al usar aprendizaje automático, es probable que trabaje con grandes conjuntos de datos. Como empresa, ¿dónde puede alojar sus datos? IBM ofrece una oportunidad inigualable para empresas, con 10 TB de almacenamiento en IBM Cloud Object Storage: [Regístrese ahora gratis](http://cocl.us/ML0101EN-IBM-Offer-CC)"
   ]
  },
  {
   "cell_type": "markdown",
   "metadata": {
    "button": false,
    "new_sheet": false,
    "run_control": {
     "read_only": false
    }
   },
   "source": [
    "### Carga de datos del archivo CSV "
   ]
  },
  {
   "cell_type": "code",
   "execution_count": null,
   "metadata": {
    "button": false,
    "new_sheet": false,
    "run_control": {
     "read_only": false
    }
   },
   "outputs": [],
   "source": [
    "churn_df = pd.read_csv(\"ChurnData.csv\")\n",
    "churn_df.head()"
   ]
  },
  {
   "cell_type": "markdown",
   "metadata": {},
   "source": [
    "## Preprocesamiento y selección de datos"
   ]
  },
  {
   "cell_type": "markdown",
   "metadata": {},
   "source": [
    "Seleccionemos algunas características para el modelado. Además, cambiamos el tipo de datos objetivo a enteros, porque es un requisito del algoritmo de skitlearn:"
   ]
  },
  {
   "cell_type": "code",
   "execution_count": null,
   "metadata": {},
   "outputs": [],
   "source": [
    "churn_df = churn_df[['tenure', 'age', 'address', 'income', 'ed', 'employ', 'equip',   'callcard', 'wireless','churn']]\n",
    "churn_df['churn'] = churn_df['churn'].astype('int')\n",
    "churn_df.head()"
   ]
  },
  {
   "cell_type": "markdown",
   "metadata": {
    "button": true,
    "new_sheet": true,
    "run_control": {
     "read_only": false
    }
   },
   "source": [
    "## Práctica\n",
    "¿Cuántas filas y columnas hay en total en este conjunto de datos? ¿Cuáles son los nombres de las columnas?"
   ]
  },
  {
   "cell_type": "code",
   "execution_count": null,
   "metadata": {
    "button": false,
    "new_sheet": false,
    "run_control": {
     "read_only": false
    }
   },
   "outputs": [],
   "source": [
    "# write your code here\n",
    "\n",
    "\n",
    "\n"
   ]
  },
  {
   "cell_type": "markdown",
   "metadata": {},
   "source": [
    "Definamos X e y para nuestro conjunto de datos:"
   ]
  },
  {
   "cell_type": "code",
   "execution_count": null,
   "metadata": {},
   "outputs": [],
   "source": [
    "X = np.asarray(churn_df[['tenure', 'age', 'address', 'income', 'ed', 'employ', 'equip']])\n",
    "X[0:5]"
   ]
  },
  {
   "cell_type": "code",
   "execution_count": null,
   "metadata": {},
   "outputs": [],
   "source": [
    "y = np.asarray(churn_df['churn'])\n",
    "y [0:5]"
   ]
  },
  {
   "cell_type": "markdown",
   "metadata": {},
   "source": [
    "Además, normalizamos el conjunto de datos:"
   ]
  },
  {
   "cell_type": "code",
   "execution_count": null,
   "metadata": {},
   "outputs": [],
   "source": [
    "from sklearn import preprocessing\n",
    "X = preprocessing.StandardScaler().fit(X).transform(X)\n",
    "X[0:5]"
   ]
  },
  {
   "cell_type": "markdown",
   "metadata": {},
   "source": [
    "## Conjunto de datos de entrenamiento/prueba"
   ]
  },
  {
   "cell_type": "markdown",
   "metadata": {},
   "source": [
    "Dividimos nuestro conjunto de datos en conjunto de entrenamiento y conjunto de prueba:"
   ]
  },
  {
   "cell_type": "code",
   "execution_count": null,
   "metadata": {},
   "outputs": [],
   "source": [
    "from sklearn.model_selection import train_test_split\n",
    "X_train, X_test, y_train, y_test = train_test_split( X, y, test_size=0.2, random_state=4)\n",
    "print ('Train set:', X_train.shape,  y_train.shape)\n",
    "print ('Test set:', X_test.shape,  y_test.shape)"
   ]
  },
  {
   "cell_type": "markdown",
   "metadata": {},
   "source": [
    "# Modelado (regresión logística con scikit-learn)"
   ]
  },
  {
   "cell_type": "markdown",
   "metadata": {},
   "source": [
    "Construyamos nuestro modelo con __LogisticRegression__ from Scikit-learn del paquete scikit-learn. Esta función implementa regresión logística y puede usar diferentes optimizadores numéricos para hallar parámetros, entre ellos solucionadores “newton-cg”, “lbfgs”, “liblinear”, “sag” y “saga”. En internet hay una gran cantidad de información sobre las ventajas y desventajas de estos optimizadores.\n",
    "\n",
    "La versión de regresión logística de scikit-learn admite regularización. La regularización es una técnica que se emplea para resolver el problema de exceso de ajuste en modelos de aprendizaje automático.\n",
    "El parámetro __C_ indica la __fuerza de la inversa de la regularización [inverse of regularization strength]__ que debe ser un valor de punto flotante. Cuanto menor es el valor, mayor es la regularización. \n",
    "Ahora ajustemos el modelo con el conjunto de entrenamiento:"
   ]
  },
  {
   "cell_type": "code",
   "execution_count": null,
   "metadata": {},
   "outputs": [],
   "source": [
    "from sklearn.linear_model import LogisticRegression\n",
    "from sklearn.metrics import confusion_matrix\n",
    "LR = LogisticRegression(C=0.01, solver='liblinear').fit(X_train,y_train)\n",
    "LR"
   ]
  },
  {
   "cell_type": "markdown",
   "metadata": {},
   "source": [
    "Ahora podemos predecir con nuestro conjunto de prueba:"
   ]
  },
  {
   "cell_type": "code",
   "execution_count": null,
   "metadata": {},
   "outputs": [],
   "source": [
    "yhat = LR.predict(X_test)\n",
    "yhat"
   ]
  },
  {
   "cell_type": "markdown",
   "metadata": {},
   "source": [
    "__predict_proba__  arroja estimaciones de todas las clases, ordenadas por la etiqueta de las clases. Entonces, la primera columna es la probabilidad de la clase 1, P(Y=1|X), y la segunda columna es la probabilidad de la clase 0, P(Y=0|X):"
   ]
  },
  {
   "cell_type": "code",
   "execution_count": null,
   "metadata": {},
   "outputs": [],
   "source": [
    "yhat_prob = LR.predict_proba(X_test)\n",
    "yhat_prob"
   ]
  },
  {
   "cell_type": "markdown",
   "metadata": {},
   "source": [
    "## Evaluación"
   ]
  },
  {
   "cell_type": "markdown",
   "metadata": {},
   "source": [
    "### Índice de jaccard\n",
    "Intentemos evaluar la exactitud con el índice de Jaccard. Podemos definir este índice como el tamaño de la intersección dividido por el tamaño de la unión de dos conjuntos de etiquetas. Si todo el conjunto de etiquetas predichas de una muestra coincide con el conjunto real de etiquetas, la precisión del subconjunto es de 1.0; si no, es de 0.0.\n"
   ]
  },
  {
   "cell_type": "code",
   "execution_count": null,
   "metadata": {},
   "outputs": [],
   "source": [
    "from sklearn.metrics import jaccard_similarity_score\n",
    "jaccard_similarity_score(y_test, yhat)"
   ]
  },
  {
   "cell_type": "markdown",
   "metadata": {},
   "source": [
    "### Matriz de confusión\n",
    "Otra manera de evaluar la exactitud de clasificadores es observar la __Matriz de confusión [confusion matrix]__."
   ]
  },
  {
   "cell_type": "code",
   "execution_count": null,
   "metadata": {},
   "outputs": [],
   "source": [
    "from sklearn.metrics import classification_report, confusion_matrix\n",
    "import itertools\n",
    "def plot_confusion_matrix(cm, classes,\n",
    "                          normalize=False,\n",
    "                          title='Confusion matrix',\n",
    "                          cmap=plt.cm.Blues):\n",
    "    \"\"\"\n",
    "    This function prints and plots the confusion matrix.\n",
    "    Normalization can be applied by setting `normalize=True`.\n",
    "    \"\"\"\n",
    "    if normalize:\n",
    "        cm = cm.astype('float') / cm.sum(axis=1)[:, np.newaxis]\n",
    "        print(\"Normalized confusion matrix\")\n",
    "    else:\n",
    "        print('Confusion matrix, without normalization')\n",
    "\n",
    "    print(cm)\n",
    "\n",
    "    plt.imshow(cm, interpolation='nearest', cmap=cmap)\n",
    "    plt.title(title)\n",
    "    plt.colorbar()\n",
    "    tick_marks = np.arange(len(classes))\n",
    "    plt.xticks(tick_marks, classes, rotation=45)\n",
    "    plt.yticks(tick_marks, classes)\n",
    "\n",
    "    fmt = '.2f' if normalize else 'd'\n",
    "    thresh = cm.max() / 2.\n",
    "    for i, j in itertools.product(range(cm.shape[0]), range(cm.shape[1])):\n",
    "        plt.text(j, i, format(cm[i, j], fmt),\n",
    "                 horizontalalignment=\"center\",\n",
    "                 color=\"white\" if cm[i, j] > thresh else \"black\")\n",
    "\n",
    "    plt.tight_layout()\n",
    "    plt.ylabel('True label')\n",
    "    plt.xlabel('Predicted label')\n",
    "print(confusion_matrix(y_test, yhat, labels=[1,0]))"
   ]
  },
  {
   "cell_type": "code",
   "execution_count": null,
   "metadata": {},
   "outputs": [],
   "source": [
    "# Compute confusion matrix\n",
    "cnf_matrix = confusion_matrix(y_test, yhat, labels=[1,0])\n",
    "np.set_printoptions(precision=2)\n",
    "\n",
    "\n",
    "# Plot non-normalized confusion matrix\n",
    "plt.figure()\n",
    "plot_confusion_matrix(cnf_matrix, classes=['churn=1','churn=0'],normalize= False,  title='Confusion matrix')"
   ]
  },
  {
   "cell_type": "markdown",
   "metadata": {},
   "source": [
    "Observe la primera fila. La primera fila es de los clientes cuyo valor real de pérdida en el conjunto de prueba es 1. Al calcular sobre un total de 40 clientes, el valor de pérdida de 15 de ellos es 1. De esos 15, el clasificador predijo correctamente 6 de ellos como 1, y 9 de ellos como 0.\n",
    "\n",
    "Significa que, para 6 clientes, el valor de pérdida real fue 1 en el conjunto de prueba, y el clasificador también predijo correctamente que sería 1. Sin embargo, aunque la etiqueta real de 9 clientes fue 1, el clasificador predijo que sería 0, lo cual no es muy bueno. Podemos considerarlo como error del modelo para la primera fila.\n",
    "\n",
    "¿Y qué ocurre con los clientes con valor de pérdida igual a cero? Observemos la segunda fila. Parece que hubo 25 clientes cuyo valor de pérdida fue 0.\n",
    "\n",
    "El clasificador predijo correctamente 24 de ellos como 0, y 1 de ellos incorrectamente como 1. Hizo un buen trabajo de predicción de clientes con valor de pérdida igual a 0. Algo que tiene de bueno la matriz de confusión es que muestra la capacidad del modelo de predecir o separar las clases correctamente. En el caso específico de clasificadores binarios, como el de este ejemplo, podemos interpretar esos números como la cantidad de verdaderos positivos, falsos positivos, verdaderos negativos y falsos negativos.\n"
   ]
  },
  {
   "cell_type": "code",
   "execution_count": null,
   "metadata": {},
   "outputs": [],
   "source": [
    "print (classification_report(y_test, yhat))\n"
   ]
  },
  {
   "cell_type": "markdown",
   "metadata": {},
   "source": [
    "A partir de la cantidad que haya en cada sección, podemos calcular la precisión y la exhaustividad de cada etiqueta:\n",
    "\n",
    "\n",
    "- La __Precisión__ es una medida de la exactitud cuando se ha predicho la etiqueta de una clase. Se define de la siguiente manera: precisión = VP / (VP + FP)\n",
    "\n",
    "- La __Exhaustividad__ es la razón de verdaderos positivos. Se define así: Exhaustividad = VP / (VP + FN)\n",
    "\n",
    "    \n",
    "Por lo tanto, podemos calcular la precisión y la exhaustividad de cada clase.\n",
    "\n",
    "__Valor F1:__\n",
    "Ahora estamos en condiciones de calcular los valores F1 de cada etiqueta a partir de la precisión y la exhaustividad de dicha etiqueta.\n",
    "\n",
    "El valor F1 es el promedio armónico de la precisión y la exhaustividad. Alcanza su mejor valor en 1 (precisión y exhaustividad perfectas), y el peor, en 0. Es una buena manera de mostrar que un clasificador tiene un buen valor tanto de exhaustividad como de precisión.\n",
    "\n",
    "Y, por último, podemos decir que la exactitud promedio de este clasificador es el promedio del valor F1 de ambas etiquetas, que en nuestro caso es 0.72.\n"
   ]
  },
  {
   "cell_type": "markdown",
   "metadata": {},
   "source": [
    "### log loss\n",
    "Ahora probemos evaluar con __log loss__ En la regresión logística, la información de salida puede ser la probabilidad de que sí haya una pérdida de cliente (o de que sea igual a 1). Esa probabilidad es un valor entre 0 y 1. Log loss (pérdida logarítmica) mide el desempeño de un clasificador cuando la información predicha es un valor de probabilidad entre 0 y 1.\n"
   ]
  },
  {
   "cell_type": "code",
   "execution_count": null,
   "metadata": {},
   "outputs": [],
   "source": [
    "from sklearn.metrics import log_loss\n",
    "log_loss(y_test, yhat_prob)"
   ]
  },
  {
   "cell_type": "markdown",
   "metadata": {},
   "source": [
    "## Práctica\n",
    "Intente volver a construir un modelo de regresión logística para el mismo conjunto de datos, pero esta vez use diferentes valores de __solucionador [solver]__ y __regularización [regulization]__? ¿Cuál es el nuevo valor de  __logLoss__?"
   ]
  },
  {
   "cell_type": "code",
   "execution_count": null,
   "metadata": {},
   "outputs": [],
   "source": [
    "# write your code here\n",
    "\n",
    "\n"
   ]
  },
  {
   "cell_type": "markdown",
   "metadata": {},
   "source": [
    "Presione doble clic __aquí__ para ver la respuesta.\n",
    "\n",
    "<!-- Your answer is below:\n",
    "    \n",
    "LR2 = LogisticRegression(C=0.01, solver='sag').fit(X_train,y_train)\n",
    "yhat_prob2 = LR2.predict_proba(X_test)\n",
    "print (\"LogLoss: : %.2f\" % log_loss(y_test, yhat_prob2))\n",
    "\n",
    "-->"
   ]
  },
  {
   "cell_type": "markdown",
   "metadata": {
    "button": false,
    "new_sheet": false,
    "run_control": {
     "read_only": false
    }
   },
   "source": [
    "## ¿Desea saber más?\n",
    "\n",
    "IBM SPSS Modeler es una plataforma de análisis completa que tiene muchos algoritmos de aprendizaje automático. Ha sido diseñada para aportar inteligencia predictiva a las decisiones que toman personas, grupos, sistemas, su empresa como conjunto. Este curso le permite acceder a una evaluación gratuita, disponible en este enlace: [SPSS Modeler](http://cocl.us/ML0101EN-SPSSModeler).\n",
    "\n",
    "También puede usar Watson Studio para ejecutar estos cuadernos más rápido con conjuntos de datos más grandes. Watson Studio es la solución de IBM en la nube número uno para científicos de datos, construida por científicos de datos. Con los cuadernos Jupyter, RStudio, Apache Spark y otras bibliotecas populares preempaquetadas en la nube, Watson Studio hace posible que los científicos de datos colaboren en sus proyectos sin necesidad de instalar nada. Súmese hoy mismo a la comunidad de usuarios de Watson Studio, que crece cada día más, con una cuenta gratuita en [Watson Studio](https://cocl.us/ML0101EN_DSX)\n",
    "\n",
    "### ¡Gracias por completar esta lección!\n",
    "\n",
    "Cuaderno creado por: <a href = \"https://ca.linkedin.com/in/saeedaghabozorgi\">Saeed Aghabozorgi</a>\n",
    "\n",
    "<hr>\n",
    "Copyright &copy; 2018 [Cognitive Class](https://cocl.us/DX0108EN_CC). Este cuaderno y su código fuente se difunden de conformidad con los términos de la [licencia del MIT](https://bigdatauniversity.com/mit-license/).​"
   ]
  }
 ],
 "metadata": {
  "kernelspec": {
   "display_name": "Python 3",
   "language": "python",
   "name": "python3"
  },
  "language_info": {
   "codemirror_mode": {
    "name": "ipython",
    "version": 3
   },
   "file_extension": ".py",
   "mimetype": "text/x-python",
   "name": "python",
   "nbconvert_exporter": "python",
   "pygments_lexer": "ipython3",
   "version": "3.6.5"
  },
  "widgets": {
   "state": {},
   "version": "1.1.2"
  }
 },
 "nbformat": 4,
 "nbformat_minor": 2
}
